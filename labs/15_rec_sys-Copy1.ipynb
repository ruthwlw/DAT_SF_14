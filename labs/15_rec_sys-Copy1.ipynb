{
 "cells": [
  {
   "cell_type": "markdown",
   "metadata": {},
   "source": [
    "# DAT_SF_13 - Lab 12\n",
    "\n",
    "### Recommender Systems\n",
    "\n",
    "\n",
    "1. Simple similarity based recommendation system\n",
    "2. Recsys\n"
   ]
  },
  {
   "cell_type": "markdown",
   "metadata": {},
   "source": [
    "## Similarity based Recommendation System: Beers\n",
    "\n",
    "\n",
    "Let's build a recommendation system to recommend types of beers based on user reviews"
   ]
  },
  {
   "cell_type": "markdown",
   "metadata": {},
   "source": [
    "Usual imports (numpy, pandas)"
   ]
  },
  {
   "cell_type": "code",
   "execution_count": 1,
   "metadata": {
    "collapsed": false
   },
   "outputs": [],
   "source": [
    "import pandas as pd\n",
    "import numpy as np"
   ]
  },
  {
   "cell_type": "markdown",
   "metadata": {},
   "source": [
    "First of all let's get the data"
   ]
  },
  {
   "cell_type": "code",
   "execution_count": 2,
   "metadata": {
    "collapsed": false
   },
   "outputs": [
    {
     "name": "stdout",
     "output_type": "stream",
     "text": [
      "  % Total    % Received % Xferd  Average Speed   Time    Time     Time  Current\n",
      "                                 Dload  Upload   Total   Spent    Left  Speed\n",
      "100 27.3M  100 27.3M    0     0  2587k      0  0:00:10  0:00:10 --:--:-- 3045k\n"
     ]
    }
   ],
   "source": [
    "! curl -O https://s3.amazonaws.com/demo-datasets/beer_reviews.tar.gz"
   ]
  },
  {
   "cell_type": "markdown",
   "metadata": {},
   "source": [
    "Import data in a pandas dataframe called \"allbeers\". Use the compression keyword"
   ]
  },
  {
   "cell_type": "code",
   "execution_count": 6,
   "metadata": {
    "collapsed": false
   },
   "outputs": [],
   "source": [
    "allbeers = pd.read_csv('beer_reviews.tar.gz',compression = 'gzip')"
   ]
  },
  {
   "cell_type": "markdown",
   "metadata": {},
   "source": [
    "Let's look at the data"
   ]
  },
  {
   "cell_type": "code",
   "execution_count": 7,
   "metadata": {
    "collapsed": false
   },
   "outputs": [
    {
     "data": {
      "text/html": [
       "<div style=\"max-height:1000px;max-width:1500px;overflow:auto;\">\n",
       "<table border=\"1\" class=\"dataframe\">\n",
       "  <thead>\n",
       "    <tr style=\"text-align: right;\">\n",
       "      <th></th>\n",
       "      <th>beer_reviews/</th>\n",
       "      <th>brewery_name</th>\n",
       "      <th>review_time</th>\n",
       "      <th>review_overall</th>\n",
       "      <th>review_aroma</th>\n",
       "      <th>review_appearance</th>\n",
       "      <th>review_profilename</th>\n",
       "      <th>beer_style</th>\n",
       "      <th>review_palate</th>\n",
       "      <th>review_taste</th>\n",
       "      <th>beer_name</th>\n",
       "      <th>beer_abv</th>\n",
       "      <th>beer_beerid</th>\n",
       "    </tr>\n",
       "  </thead>\n",
       "  <tbody>\n",
       "    <tr>\n",
       "      <th>0</th>\n",
       "      <td>10325</td>\n",
       "      <td>Vecchio Birraio</td>\n",
       "      <td>1234817823</td>\n",
       "      <td>1.5</td>\n",
       "      <td>2.0</td>\n",
       "      <td>2.5</td>\n",
       "      <td>stcules</td>\n",
       "      <td>Hefeweizen</td>\n",
       "      <td>1.5</td>\n",
       "      <td>1.5</td>\n",
       "      <td>Sausa Weizen</td>\n",
       "      <td>5.0</td>\n",
       "      <td>47986</td>\n",
       "    </tr>\n",
       "    <tr>\n",
       "      <th>1</th>\n",
       "      <td>10325</td>\n",
       "      <td>Vecchio Birraio</td>\n",
       "      <td>1235915097</td>\n",
       "      <td>3.0</td>\n",
       "      <td>2.5</td>\n",
       "      <td>3.0</td>\n",
       "      <td>stcules</td>\n",
       "      <td>English Strong Ale</td>\n",
       "      <td>3.0</td>\n",
       "      <td>3.0</td>\n",
       "      <td>Red Moon</td>\n",
       "      <td>6.2</td>\n",
       "      <td>48213</td>\n",
       "    </tr>\n",
       "    <tr>\n",
       "      <th>2</th>\n",
       "      <td>10325</td>\n",
       "      <td>Vecchio Birraio</td>\n",
       "      <td>1235916604</td>\n",
       "      <td>3.0</td>\n",
       "      <td>2.5</td>\n",
       "      <td>3.0</td>\n",
       "      <td>stcules</td>\n",
       "      <td>Foreign / Export Stout</td>\n",
       "      <td>3.0</td>\n",
       "      <td>3.0</td>\n",
       "      <td>Black Horse Black Beer</td>\n",
       "      <td>6.5</td>\n",
       "      <td>48215</td>\n",
       "    </tr>\n",
       "    <tr>\n",
       "      <th>3</th>\n",
       "      <td>10325</td>\n",
       "      <td>Vecchio Birraio</td>\n",
       "      <td>1234725145</td>\n",
       "      <td>3.0</td>\n",
       "      <td>3.0</td>\n",
       "      <td>3.5</td>\n",
       "      <td>stcules</td>\n",
       "      <td>German Pilsener</td>\n",
       "      <td>2.5</td>\n",
       "      <td>3.0</td>\n",
       "      <td>Sausa Pils</td>\n",
       "      <td>5.0</td>\n",
       "      <td>47969</td>\n",
       "    </tr>\n",
       "    <tr>\n",
       "      <th>4</th>\n",
       "      <td>1075</td>\n",
       "      <td>Caldera Brewing Company</td>\n",
       "      <td>1293735206</td>\n",
       "      <td>4.0</td>\n",
       "      <td>4.5</td>\n",
       "      <td>4.0</td>\n",
       "      <td>johnmichaelsen</td>\n",
       "      <td>American Double / Imperial IPA</td>\n",
       "      <td>4.0</td>\n",
       "      <td>4.5</td>\n",
       "      <td>Cauldron DIPA</td>\n",
       "      <td>7.7</td>\n",
       "      <td>64883</td>\n",
       "    </tr>\n",
       "  </tbody>\n",
       "</table>\n",
       "</div>"
      ],
      "text/plain": [
       "  beer_reviews/             brewery_name  review_time  review_overall  \\\n",
       "0         10325          Vecchio Birraio   1234817823             1.5   \n",
       "1         10325          Vecchio Birraio   1235915097             3.0   \n",
       "2         10325          Vecchio Birraio   1235916604             3.0   \n",
       "3         10325          Vecchio Birraio   1234725145             3.0   \n",
       "4          1075  Caldera Brewing Company   1293735206             4.0   \n",
       "\n",
       "   review_aroma  review_appearance review_profilename  \\\n",
       "0           2.0                2.5            stcules   \n",
       "1           2.5                3.0            stcules   \n",
       "2           2.5                3.0            stcules   \n",
       "3           3.0                3.5            stcules   \n",
       "4           4.5                4.0     johnmichaelsen   \n",
       "\n",
       "                       beer_style  review_palate  review_taste  \\\n",
       "0                      Hefeweizen            1.5           1.5   \n",
       "1              English Strong Ale            3.0           3.0   \n",
       "2          Foreign / Export Stout            3.0           3.0   \n",
       "3                 German Pilsener            2.5           3.0   \n",
       "4  American Double / Imperial IPA            4.0           4.5   \n",
       "\n",
       "                beer_name  beer_abv  beer_beerid  \n",
       "0            Sausa Weizen       5.0        47986  \n",
       "1                Red Moon       6.2        48213  \n",
       "2  Black Horse Black Beer       6.5        48215  \n",
       "3              Sausa Pils       5.0        47969  \n",
       "4           Cauldron DIPA       7.7        64883  "
      ]
     },
     "execution_count": 7,
     "metadata": {},
     "output_type": "execute_result"
    }
   ],
   "source": [
    "allbeers.head()"
   ]
  },
  {
   "cell_type": "code",
   "execution_count": 58,
   "metadata": {
    "collapsed": false
   },
   "outputs": [
    {
     "name": "stdout",
     "output_type": "stream",
     "text": [
      "<class 'pandas.core.frame.DataFrame'>\n",
      "Int64Index: 1586629 entries, 0 to 1586628\n",
      "Data columns (total 13 columns):\n",
      "beer_reviews/         1586629 non-null object\n",
      "brewery_name          1586611 non-null object\n",
      "review_time           1586614 non-null float64\n",
      "review_overall        1586614 non-null float64\n",
      "review_aroma          1586614 non-null float64\n",
      "review_appearance     1586614 non-null float64\n",
      "review_profilename    1586266 non-null object\n",
      "beer_style            1586614 non-null object\n",
      "review_palate         1586614 non-null float64\n",
      "review_taste          1586614 non-null float64\n",
      "beer_name             1586614 non-null object\n",
      "beer_abv              1518829 non-null float64\n",
      "beer_beerid           1586614 non-null float64\n",
      "dtypes: float64(8), object(5)\n",
      "memory usage: 169.5+ MB\n"
     ]
    }
   ],
   "source": [
    "allbeers.info()"
   ]
  },
  {
   "cell_type": "markdown",
   "metadata": {},
   "source": [
    "Let's restrict this to the top 250 beers. Use the value_counts() method select the top 250 beers.\n",
    "Assign the selected beers to a dataset called df"
   ]
  },
  {
   "cell_type": "code",
   "execution_count": 19,
   "metadata": {
    "collapsed": false
   },
   "outputs": [],
   "source": [
    "n = 250\n",
    "top_n = allbeers.beer_name.value_counts().index[:n]\n",
    "df = allbeers[allbeers.beer_name.isin(top_n)]"
   ]
  },
  {
   "cell_type": "code",
   "execution_count": 59,
   "metadata": {
    "collapsed": false
   },
   "outputs": [
    {
     "data": {
      "text/plain": [
       "Index([u'90 Minute IPA', u'India Pale Ale',\n",
       "       u'Old Rasputin Russian Imperial Stout',\n",
       "       u'Sierra Nevada Celebration Ale', u'Two Hearted Ale',\n",
       "       u'Stone Ruination IPA', u'Arrogant Bastard Ale',\n",
       "       u'Sierra Nevada Pale Ale', u'Stone IPA (India Pale Ale)',\n",
       "       u'Pliny The Elder', \n",
       "       ...\n",
       "       u'Murphy's Irish Stout', u'Troegenator Double Bock',\n",
       "       u'Aecht Schlenkerla Rauchbier Märzen', u'Smuttynose Robust Porter',\n",
       "       u'Piraat Ale', u'Raging Bitch Belgian-Style IPA', u'Stone Pale Ale',\n",
       "       u'Hopsickle Imperial India Pale Ale',\n",
       "       u'New Holland Dragon's Milk Oak Barrel Ale', u'Vanilla Porter'],\n",
       "      dtype='object', length=250)"
      ]
     },
     "execution_count": 59,
     "metadata": {},
     "output_type": "execute_result"
    }
   ],
   "source": [
    "top_n"
   ]
  },
  {
   "cell_type": "code",
   "execution_count": 60,
   "metadata": {
    "collapsed": false
   },
   "outputs": [
    {
     "data": {
      "text/html": [
       "<div style=\"max-height:1000px;max-width:1500px;overflow:auto;\">\n",
       "<table border=\"1\" class=\"dataframe\">\n",
       "  <thead>\n",
       "    <tr style=\"text-align: right;\">\n",
       "      <th></th>\n",
       "      <th>beer_reviews/</th>\n",
       "      <th>brewery_name</th>\n",
       "      <th>review_time</th>\n",
       "      <th>review_overall</th>\n",
       "      <th>review_aroma</th>\n",
       "      <th>review_appearance</th>\n",
       "      <th>review_profilename</th>\n",
       "      <th>beer_style</th>\n",
       "      <th>review_palate</th>\n",
       "      <th>review_taste</th>\n",
       "      <th>beer_name</th>\n",
       "      <th>beer_abv</th>\n",
       "      <th>beer_beerid</th>\n",
       "    </tr>\n",
       "  </thead>\n",
       "  <tbody>\n",
       "    <tr>\n",
       "      <th>798</th>\n",
       "      <td>1075</td>\n",
       "      <td>Caldera Brewing Company</td>\n",
       "      <td>1212201268</td>\n",
       "      <td>4.5</td>\n",
       "      <td>4.5</td>\n",
       "      <td>4</td>\n",
       "      <td>grumpy</td>\n",
       "      <td>American Double / Imperial Stout</td>\n",
       "      <td>4.0</td>\n",
       "      <td>4.5</td>\n",
       "      <td>Imperial Stout</td>\n",
       "      <td>NaN</td>\n",
       "      <td>42964</td>\n",
       "    </tr>\n",
       "    <tr>\n",
       "      <th>1559</th>\n",
       "      <td>11715</td>\n",
       "      <td>Destiny Brewing Company</td>\n",
       "      <td>1137124057</td>\n",
       "      <td>4.0</td>\n",
       "      <td>3.5</td>\n",
       "      <td>4</td>\n",
       "      <td>blitheringidiot</td>\n",
       "      <td>American Pale Ale (APA)</td>\n",
       "      <td>3.5</td>\n",
       "      <td>3.5</td>\n",
       "      <td>Pale Ale</td>\n",
       "      <td>4.5</td>\n",
       "      <td>26420</td>\n",
       "    </tr>\n",
       "    <tr>\n",
       "      <th>1560</th>\n",
       "      <td>11715</td>\n",
       "      <td>Destiny Brewing Company</td>\n",
       "      <td>1129504403</td>\n",
       "      <td>4.0</td>\n",
       "      <td>2.5</td>\n",
       "      <td>4</td>\n",
       "      <td>NeroFiddled</td>\n",
       "      <td>American Pale Ale (APA)</td>\n",
       "      <td>4.0</td>\n",
       "      <td>3.5</td>\n",
       "      <td>Pale Ale</td>\n",
       "      <td>4.5</td>\n",
       "      <td>26420</td>\n",
       "    </tr>\n",
       "    <tr>\n",
       "      <th>1563</th>\n",
       "      <td>11715</td>\n",
       "      <td>Destiny Brewing Company</td>\n",
       "      <td>1137125989</td>\n",
       "      <td>3.5</td>\n",
       "      <td>3.0</td>\n",
       "      <td>4</td>\n",
       "      <td>blitheringidiot</td>\n",
       "      <td>American IPA</td>\n",
       "      <td>4.0</td>\n",
       "      <td>4.0</td>\n",
       "      <td>IPA</td>\n",
       "      <td>NaN</td>\n",
       "      <td>26132</td>\n",
       "    </tr>\n",
       "    <tr>\n",
       "      <th>1564</th>\n",
       "      <td>11715</td>\n",
       "      <td>Destiny Brewing Company</td>\n",
       "      <td>1130936611</td>\n",
       "      <td>3.0</td>\n",
       "      <td>3.0</td>\n",
       "      <td>3</td>\n",
       "      <td>Gavage</td>\n",
       "      <td>American IPA</td>\n",
       "      <td>4.0</td>\n",
       "      <td>3.5</td>\n",
       "      <td>IPA</td>\n",
       "      <td>NaN</td>\n",
       "      <td>26132</td>\n",
       "    </tr>\n",
       "  </tbody>\n",
       "</table>\n",
       "</div>"
      ],
      "text/plain": [
       "     beer_reviews/             brewery_name  review_time  review_overall  \\\n",
       "798           1075  Caldera Brewing Company   1212201268             4.5   \n",
       "1559         11715  Destiny Brewing Company   1137124057             4.0   \n",
       "1560         11715  Destiny Brewing Company   1129504403             4.0   \n",
       "1563         11715  Destiny Brewing Company   1137125989             3.5   \n",
       "1564         11715  Destiny Brewing Company   1130936611             3.0   \n",
       "\n",
       "      review_aroma  review_appearance review_profilename  \\\n",
       "798            4.5                  4             grumpy   \n",
       "1559           3.5                  4    blitheringidiot   \n",
       "1560           2.5                  4        NeroFiddled   \n",
       "1563           3.0                  4    blitheringidiot   \n",
       "1564           3.0                  3             Gavage   \n",
       "\n",
       "                            beer_style  review_palate  review_taste  \\\n",
       "798   American Double / Imperial Stout            4.0           4.5   \n",
       "1559           American Pale Ale (APA)            3.5           3.5   \n",
       "1560           American Pale Ale (APA)            4.0           3.5   \n",
       "1563                      American IPA            4.0           4.0   \n",
       "1564                      American IPA            4.0           3.5   \n",
       "\n",
       "           beer_name  beer_abv  beer_beerid  \n",
       "798   Imperial Stout       NaN        42964  \n",
       "1559        Pale Ale       4.5        26420  \n",
       "1560        Pale Ale       4.5        26420  \n",
       "1563             IPA       NaN        26132  \n",
       "1564             IPA       NaN        26132  "
      ]
     },
     "execution_count": 60,
     "metadata": {},
     "output_type": "execute_result"
    }
   ],
   "source": [
    "df.head()\n"
   ]
  },
  {
   "cell_type": "markdown",
   "metadata": {},
   "source": [
    "How big is this dataset?"
   ]
  },
  {
   "cell_type": "code",
   "execution_count": 20,
   "metadata": {
    "collapsed": false
   },
   "outputs": [
    {
     "name": "stdout",
     "output_type": "stream",
     "text": [
      "<class 'pandas.core.frame.DataFrame'>\n",
      "Int64Index: 355275 entries, 798 to 1586564\n",
      "Data columns (total 13 columns):\n",
      "beer_reviews/         355275 non-null object\n",
      "brewery_name          355275 non-null object\n",
      "review_time           355275 non-null float64\n",
      "review_overall        355275 non-null float64\n",
      "review_aroma          355275 non-null float64\n",
      "review_appearance     355275 non-null float64\n",
      "review_profilename    355175 non-null object\n",
      "beer_style            355275 non-null object\n",
      "review_palate         355275 non-null float64\n",
      "review_taste          355275 non-null float64\n",
      "beer_name             355275 non-null object\n",
      "beer_abv              353477 non-null float64\n",
      "beer_beerid           355275 non-null float64\n",
      "dtypes: float64(8), object(5)\n",
      "memory usage: 37.9+ MB\n"
     ]
    }
   ],
   "source": [
    "df.info()"
   ]
  },
  {
   "cell_type": "markdown",
   "metadata": {},
   "source": [
    "### Pivot Table"
   ]
  },
  {
   "cell_type": "markdown",
   "metadata": {},
   "source": [
    "Aggregate the data in a pivot table using the pivot_table method. Display the mean review_overall for each beer_name aggregating the review_overall values by review_profilename. Use the mean as aggregator."
   ]
  },
  {
   "cell_type": "code",
   "execution_count": 62,
   "metadata": {
    "collapsed": false
   },
   "outputs": [],
   "source": [
    "df_wide = pd.pivot_table(df,values = ['review_overall'], \n",
    "                         columns = ['beer_name', 'review_profilename'], aggfunc =np.mean).unstack()"
   ]
  },
  {
   "cell_type": "code",
   "execution_count": 28,
   "metadata": {
    "collapsed": false
   },
   "outputs": [
    {
     "data": {
      "text/plain": [
       "(250, 22140)"
      ]
     },
     "execution_count": 28,
     "metadata": {},
     "output_type": "execute_result"
    }
   ],
   "source": [
    "df_wide.shape"
   ]
  },
  {
   "cell_type": "markdown",
   "metadata": {},
   "source": [
    "Display the head of the pivot table, but only for 5 users (columns are users)"
   ]
  },
  {
   "cell_type": "code",
   "execution_count": 29,
   "metadata": {
    "collapsed": false
   },
   "outputs": [
    {
     "data": {
      "text/html": [
       "<div style=\"max-height:1000px;max-width:1500px;overflow:auto;\">\n",
       "<table border=\"1\" class=\"dataframe\">\n",
       "  <thead>\n",
       "    <tr style=\"text-align: right;\">\n",
       "      <th></th>\n",
       "      <th>review_profilename</th>\n",
       "      <th>0110x011</th>\n",
       "      <th>02maxima</th>\n",
       "      <th>03SVTCobra</th>\n",
       "      <th>05Harley</th>\n",
       "      <th>0Naught0</th>\n",
       "    </tr>\n",
       "    <tr>\n",
       "      <th></th>\n",
       "      <th>beer_name</th>\n",
       "      <th></th>\n",
       "      <th></th>\n",
       "      <th></th>\n",
       "      <th></th>\n",
       "      <th></th>\n",
       "    </tr>\n",
       "  </thead>\n",
       "  <tbody>\n",
       "    <tr>\n",
       "      <th rowspan=\"5\" valign=\"top\">review_overall</th>\n",
       "      <th>#9</th>\n",
       "      <td>NaN</td>\n",
       "      <td>NaN</td>\n",
       "      <td>NaN</td>\n",
       "      <td>NaN</td>\n",
       "      <td>NaN</td>\n",
       "    </tr>\n",
       "    <tr>\n",
       "      <th>120 Minute IPA</th>\n",
       "      <td>NaN</td>\n",
       "      <td>NaN</td>\n",
       "      <td>NaN</td>\n",
       "      <td>4</td>\n",
       "      <td>NaN</td>\n",
       "    </tr>\n",
       "    <tr>\n",
       "      <th>1554 Enlightened Black Ale</th>\n",
       "      <td>NaN</td>\n",
       "      <td>NaN</td>\n",
       "      <td>NaN</td>\n",
       "      <td>NaN</td>\n",
       "      <td>NaN</td>\n",
       "    </tr>\n",
       "    <tr>\n",
       "      <th>60 Minute IPA</th>\n",
       "      <td>NaN</td>\n",
       "      <td>NaN</td>\n",
       "      <td>NaN</td>\n",
       "      <td>NaN</td>\n",
       "      <td>NaN</td>\n",
       "    </tr>\n",
       "    <tr>\n",
       "      <th>90 Minute IPA</th>\n",
       "      <td>5</td>\n",
       "      <td>NaN</td>\n",
       "      <td>NaN</td>\n",
       "      <td>4</td>\n",
       "      <td>NaN</td>\n",
       "    </tr>\n",
       "  </tbody>\n",
       "</table>\n",
       "</div>"
      ],
      "text/plain": [
       "review_profilename                         0110x011  02maxima  03SVTCobra  \\\n",
       "               beer_name                                                    \n",
       "review_overall #9                               NaN       NaN         NaN   \n",
       "               120 Minute IPA                   NaN       NaN         NaN   \n",
       "               1554 Enlightened Black Ale       NaN       NaN         NaN   \n",
       "               60 Minute IPA                    NaN       NaN         NaN   \n",
       "               90 Minute IPA                      5       NaN         NaN   \n",
       "\n",
       "review_profilename                         05Harley  0Naught0  \n",
       "               beer_name                                       \n",
       "review_overall #9                               NaN       NaN  \n",
       "               120 Minute IPA                     4       NaN  \n",
       "               1554 Enlightened Black Ale       NaN       NaN  \n",
       "               60 Minute IPA                    NaN       NaN  \n",
       "               90 Minute IPA                      4       NaN  "
      ]
     },
     "execution_count": 29,
     "metadata": {},
     "output_type": "execute_result"
    }
   ],
   "source": [
    "df_wide.ix[0:5, 0:5]"
   ]
  },
  {
   "cell_type": "markdown",
   "metadata": {},
   "source": [
    "### Discussion: what do you notice in this table?"
   ]
  },
  {
   "cell_type": "markdown",
   "metadata": {},
   "source": [
    "#### Data munging\n",
    "Set Nans to zero"
   ]
  },
  {
   "cell_type": "code",
   "execution_count": 63,
   "metadata": {
    "collapsed": false
   },
   "outputs": [],
   "source": [
    "df_wide = df_wide.fillna(0)"
   ]
  },
  {
   "cell_type": "markdown",
   "metadata": {},
   "source": [
    "Check that columns are users"
   ]
  },
  {
   "cell_type": "code",
   "execution_count": 64,
   "metadata": {
    "collapsed": false
   },
   "outputs": [
    {
     "data": {
      "text/plain": [
       "Index([u'0110x011', u'02maxima', u'03SVTCobra', u'05Harley', u'0Naught0',\n",
       "       u'0beerguy0', u'0runkp0s', u'0tt0', u'1000Bottles', u'1001111.0'],\n",
       "      dtype='object', name=u'review_profilename')"
      ]
     },
     "execution_count": 64,
     "metadata": {},
     "output_type": "execute_result"
    }
   ],
   "source": [
    "df_wide.columns[:10]"
   ]
  },
  {
   "cell_type": "markdown",
   "metadata": {},
   "source": [
    "Check that rows are beers"
   ]
  },
  {
   "cell_type": "code",
   "execution_count": 34,
   "metadata": {
    "collapsed": false
   },
   "outputs": [
    {
     "data": {
      "text/plain": [
       "MultiIndex(levels=[[u'review_overall'], [u'#9', u'120 Minute IPA', u'1554 Enlightened Black Ale', u'60 Minute IPA', u'90 Minute IPA', u'Aecht Schlenkerla Rauchbier Märzen', u'AleSmith IPA', u'AleSmith Speedway Stout', u'Allagash White', u'Alpha King Pale Ale', u'Anchor Liberty Ale', u'Anchor Old Foghorn', u'Anchor Porter', u'Anchor Steam Beer', u'ApriHop', u'Arrogant Bastard Ale', u'Ayinger Celebrator Doppelbock', u'Bass Pale Ale', u'Bell's Expedition Stout', u'Bell's Hopslam Ale', u'Bell's Java Stout', u'Bell's Kalamazoo Stout', u'Bell's Oberon Ale', u'Bell's Special Double Cream Stout', u'Big Bear Black Stout', u'Black Butte Porter', u'Blanche De Chambly', u'Blind Pig IPA', u'Blue Moon Belgian White', u'Boddingtons Pub Ale', u'Bourbon County Brand Stout', u'Brooklyn Black Chocolate Stout', u'Brooklyn Lager', u'Brooklyn Monster Ale', u'Brown Shugga'', u'Brutal Bitter Ale', u'Bud Light', u'Budweiser', u'Burton Baton', u'Cappuccino Stout', u'Chicory Stout', u'Chimay Grande Réserve (Blue)', u'Chimay Première (Red)', u'Chimay Tripel (White)', u'Chocolate Stout', u'Choklat', u'Christmas Ale', u'Coors Light', u'Corona Extra', u'Creme Brulee (Imperial Milk Stout)', u'Dale's Pale Ale', u'Damnation', u'Dark Lord Imperial Stout', u'Dead Guy Ale', u'Delirium Tremens', u'Doggie Style Classic Pale Ale', u'Don de Dieu', u'Double Bastard Ale', u'Double Dog Double Pale Ale', u'Double Simcoe IPA', u'Dreadnaught IPA', u'Duchesse De Bourgogne', u'Duvel', u'Fat Tire Amber Ale', u'Festina Pêche', u'Founders Backwoods Bastard', u'Founders Breakfast Stout', u'Founders Centennial IPA', u'Founders Devil Dancer', u'Founders Dirty Bastard', u'Founders Double Trouble', u'Founders Imperial Stout', u'Founders KBS (Kentucky Breakfast Stout)', u'Founders Porter', u'Founders Red's Rye PA', u'Franziskaner Hefe-Weisse', u'Fuller's ESB', u'Fuller's London Porter', u'Fuller's London Pride', u'Furious', u'G'Knight Imperial Red Ale', u'Golden Monkey', u'Gonzo Imperial Porter', u'Great Lakes Blackout Stout', u'Great Lakes Burning River Pale Ale', u'Great Lakes Dortmunder Gold', u'Great Lakes Edmund Fitzgerald Porter', u'Green Flash West Coast I.P.A.', u'Guinness Draught', u'Guinness Extra Stout (Original)', u'Gulden Draak (Dark Triple)', u'Gumballhead', u'Harpoon IPA', u'Harvest Ale', u'Hazelnut Brown Nectar', u'Heavy Seas - Loose Cannon (Hop3 Ale)', u'Heineken Lager Beer', u'Hennepin (Farmhouse Saison)', u'Hercules Double IPA', u'Hibernation Ale', u'Hobgoblin', u'Hoegaarden Original White Ale', u'Hop Ottin' IPA', u'Hop Rod Rye', u'Hop Stoopid', u'Hop Wallop', u'HopDevil Ale', u'Hopsickle Imperial India Pale Ale', u'Houblon Chouffe Dobbelen IPA Tripel', u'IPA', u'Immort Ale', u'Imperial IPA', u'Imperial Stout', u'India Pale Ale', u'India Pale Ale (IPA)', u'Indian Brown Ale', u'La Fin Du Monde', u'Lagunitas IPA', u'Leffe Blonde', u'Left Hand Milk Stout', u'Leinenkugel's Sunset Wheat', u'Lindemans Framboise', u'Long Hammer IPA', u'Maharaja', u'Matilda', u'Maudite', u'Maximus', u'Midas Touch Golden Elixir', u'Miller High Life', u'Miller Lite', u'Mocha Porter', u'Murphy's Irish Stout', u'New Holland Dragon's Milk Oak Barrel Ale', u'Newcastle Brown Ale', u'Northern Hemisphere Harvest Wet Hop Ale', u'Nut Brown Ale', u'Oak Aged Yeti Imperial Stout', u'Oaked Arrogant Bastard Ale', u'Oatmeal Stout', u'Oktoberfest', u'Old Chub - Scottish Style Ale', u'Old Horizontal', u'Old Rasputin Russian Imperial Stout', u'Old Ruffian Barley Wine', u'Old Stock Ale', u'Ommegang (Abbey Ale)', u'Orval Trappist Ale', u'Pabst Blue Ribbon (PBR)', u'Pale Ale', u'Palo Santo Marron', u'Paulaner Hefe-Weissbier Naturtrüb', u'Paulaner Oktoberfest-Märzen', u'Pilsner Urquell', u'Piraat Ale', u'Pliny The Elder', u'Porter', u'Pranqster', u'Prima Pils', u'Pumking', u'Punkin Ale', u'Péché Mortel (Imperial Stout Au Cafe)', u'Racer 5 India Pale Ale', u'Raging Bitch Belgian-Style IPA', u'Raison D'etre', u'Rare Vos (Amber Ale)', u'Red Rocket Ale', u'Red Stripe Jamaican Lager', u'Ruedrich's Red Seal Ale', u'Saison Dupont', u'Salvator Doppel Bock', u'Samichlaus Bier', u'Samuel Adams Black Lager', u'Samuel Adams Boston Ale (Stock Ale)', u'Samuel Adams Boston Lager', u'Samuel Adams Cherry Wheat', u'Samuel Adams Chocolate Bock', u'Samuel Adams Cranberry Lambic', u'Samuel Adams Cream Stout', u'Samuel Adams Double Bock (Imperial Series)', u'Samuel Adams Holiday Porter', u'Samuel Adams Noble Pils', u'Samuel Adams Octoberfest', u'Samuel Adams Old Fezziwig Ale', u'Samuel Adams Summer Ale', u'Samuel Adams White Ale', u'Samuel Adams Winter Lager', u'Samuel Smith's Imperial Stout', u'Samuel Smith's Nut Brown Ale', u'Samuel Smith's Oatmeal Stout', u'Samuel Smith's Winter Welcome Ale', u'Samuel Smith's, The Famous Taddy Porter', u'Santa's Private Reserve Ale', u'Schneider Aventinus', u'Schneider Aventinus Weizen-Eisbock', u'Sculpin India Pale Ale', u'Shakespeare Oatmeal Stout', u'Shiner Bock', u'Sierra Nevada Anniversary Ale (2007-2009)', u'Sierra Nevada Bigfoot Barleywine Style Ale', u'Sierra Nevada Celebration Ale', u'Sierra Nevada Kellerweis Hefeweizen', u'Sierra Nevada Pale Ale', u'Sierra Nevada Porter', u'Sierra Nevada Southern Hemisphere Harvest Fresh Hop Ale', u'Sierra Nevada Stout', u'Sierra Nevada Summerfest Lager', u'Sierra Nevada Torpedo Extra IPA', u'Smuttynose IPA \"Finest Kind\"', u'Smuttynose Robust Porter', u'Snake Dog IPA', u'Spaten Oktoberfestbier Ur-Märzen', u'Spaten Optimator', u'St. Bernardus Abt 12', u'St. Bernardus Tripel', u'Stella Artois', u'Stone IPA (India Pale Ale)', u'Stone Imperial Russian Stout', u'Stone Levitation Ale', u'Stone Pale Ale', u'Stone Ruination IPA', u'Stone Smoked Porter', u'Stone Sublimely Self-Righteous Ale', u'Storm King Stout', u'Supplication', u'Ten FIDY', u'Terrapin Coffee Oatmeal Imperial Stout', u'The Abyss', u'Three Philosophers Belgian Style Blend (Quadrupel)', u'Titan IPA', u'Trappist Westvleteren 12', u'Trappistes Rochefort 10', u'Trappistes Rochefort 8', u'Tripel Karmeliet', u'Troegenator Double Bock', u'Trois Pistoles', u'Tröegs Hopback Amber Ale', u'Tröegs Mad Elf', u'Tröegs Nugget Nectar', u'Two Hearted Ale', u'Unearthly (Imperial India Pale Ale)', u'Vanilla Porter', u'Weihenstephaner Hefeweissbier', u'Weihenstephaner Korbinian', u'Westmalle Trappist Dubbel', u'Westmalle Trappist Tripel', u'World Wide Stout', u'Yeti Imperial Stout', u'Young's Double Chocolate Stout', u'Yuengling Traditional Lager', u'Éphémère (Apple)']],\n",
       "           labels=[[0, 0, 0, 0, 0, 0, 0, 0, 0, 0], [0, 1, 2, 3, 4, 5, 6, 7, 8, 9]],\n",
       "           names=[None, u'beer_name'])"
      ]
     },
     "execution_count": 34,
     "metadata": {},
     "output_type": "execute_result"
    }
   ],
   "source": [
    "df_wide.index[:10]"
   ]
  },
  {
   "cell_type": "markdown",
   "metadata": {},
   "source": [
    "### Calculate distance between beers\n",
    "\n",
    "We're going to use cosine_similarity from scikit-learn to compute the distance between all beers"
   ]
  },
  {
   "cell_type": "markdown",
   "metadata": {},
   "source": [
    "Imports"
   ]
  },
  {
   "cell_type": "code",
   "execution_count": 35,
   "metadata": {
    "collapsed": false
   },
   "outputs": [],
   "source": [
    "from sklearn.metrics.pairwise import cosine_similarity\n",
    "from sklearn.metrics.pairwise import manhattan_distances\n",
    "from sklearn.metrics.pairwise import euclidean_distances"
   ]
  },
  {
   "cell_type": "markdown",
   "metadata": {},
   "source": [
    "Apply cosine similarity to df_wide to calculate pairwise distances"
   ]
  },
  {
   "cell_type": "code",
   "execution_count": 37,
   "metadata": {
    "collapsed": false
   },
   "outputs": [],
   "source": [
    "dists = cosine_similarity(df_wide)"
   ]
  },
  {
   "cell_type": "markdown",
   "metadata": {},
   "source": [
    "### Discussion: what type of object is dists?"
   ]
  },
  {
   "cell_type": "markdown",
   "metadata": {},
   "source": [
    "Convert dists to a Pandas DataFrame, use the index as column index as well (distances are a square matrix)."
   ]
  },
  {
   "cell_type": "code",
   "execution_count": 38,
   "metadata": {
    "collapsed": false
   },
   "outputs": [],
   "source": [
    "dists = pd.DataFrame(dists, columns = df_wide.index)\n",
    "dists.index = dists.columns"
   ]
  },
  {
   "cell_type": "code",
   "execution_count": 40,
   "metadata": {
    "collapsed": false
   },
   "outputs": [
    {
     "data": {
      "text/html": [
       "<div style=\"max-height:1000px;max-width:1500px;overflow:auto;\">\n",
       "<table border=\"1\" class=\"dataframe\">\n",
       "  <thead>\n",
       "    <tr>\n",
       "      <th></th>\n",
       "      <th></th>\n",
       "      <th colspan=\"10\" halign=\"left\">review_overall</th>\n",
       "    </tr>\n",
       "    <tr>\n",
       "      <th></th>\n",
       "      <th>beer_name</th>\n",
       "      <th>#9</th>\n",
       "      <th>120 Minute IPA</th>\n",
       "      <th>1554 Enlightened Black Ale</th>\n",
       "      <th>60 Minute IPA</th>\n",
       "      <th>90 Minute IPA</th>\n",
       "      <th>Aecht Schlenkerla Rauchbier Märzen</th>\n",
       "      <th>AleSmith IPA</th>\n",
       "      <th>AleSmith Speedway Stout</th>\n",
       "      <th>Allagash White</th>\n",
       "      <th>Alpha King Pale Ale</th>\n",
       "    </tr>\n",
       "    <tr>\n",
       "      <th></th>\n",
       "      <th>beer_name</th>\n",
       "      <th></th>\n",
       "      <th></th>\n",
       "      <th></th>\n",
       "      <th></th>\n",
       "      <th></th>\n",
       "      <th></th>\n",
       "      <th></th>\n",
       "      <th></th>\n",
       "      <th></th>\n",
       "      <th></th>\n",
       "    </tr>\n",
       "  </thead>\n",
       "  <tbody>\n",
       "    <tr>\n",
       "      <th rowspan=\"10\" valign=\"top\">review_overall</th>\n",
       "      <th>#9</th>\n",
       "      <td>1.000000</td>\n",
       "      <td>0.275405</td>\n",
       "      <td>0.274103</td>\n",
       "      <td>0.388364</td>\n",
       "      <td>0.365175</td>\n",
       "      <td>0.253841</td>\n",
       "      <td>0.228479</td>\n",
       "      <td>0.227612</td>\n",
       "      <td>0.340681</td>\n",
       "      <td>0.293315</td>\n",
       "    </tr>\n",
       "    <tr>\n",
       "      <th>120 Minute IPA</th>\n",
       "      <td>0.275405</td>\n",
       "      <td>1.000000</td>\n",
       "      <td>0.251519</td>\n",
       "      <td>0.378258</td>\n",
       "      <td>0.410366</td>\n",
       "      <td>0.262425</td>\n",
       "      <td>0.315971</td>\n",
       "      <td>0.337541</td>\n",
       "      <td>0.282273</td>\n",
       "      <td>0.336796</td>\n",
       "    </tr>\n",
       "    <tr>\n",
       "      <th>1554 Enlightened Black Ale</th>\n",
       "      <td>0.274103</td>\n",
       "      <td>0.251519</td>\n",
       "      <td>1.000000</td>\n",
       "      <td>0.319887</td>\n",
       "      <td>0.314028</td>\n",
       "      <td>0.252486</td>\n",
       "      <td>0.266866</td>\n",
       "      <td>0.261761</td>\n",
       "      <td>0.260275</td>\n",
       "      <td>0.307296</td>\n",
       "    </tr>\n",
       "    <tr>\n",
       "      <th>60 Minute IPA</th>\n",
       "      <td>0.388364</td>\n",
       "      <td>0.378258</td>\n",
       "      <td>0.319887</td>\n",
       "      <td>1.000000</td>\n",
       "      <td>0.533042</td>\n",
       "      <td>0.316928</td>\n",
       "      <td>0.312343</td>\n",
       "      <td>0.307627</td>\n",
       "      <td>0.360975</td>\n",
       "      <td>0.385249</td>\n",
       "    </tr>\n",
       "    <tr>\n",
       "      <th>90 Minute IPA</th>\n",
       "      <td>0.365175</td>\n",
       "      <td>0.410366</td>\n",
       "      <td>0.314028</td>\n",
       "      <td>0.533042</td>\n",
       "      <td>1.000000</td>\n",
       "      <td>0.312861</td>\n",
       "      <td>0.344218</td>\n",
       "      <td>0.358754</td>\n",
       "      <td>0.356804</td>\n",
       "      <td>0.418582</td>\n",
       "    </tr>\n",
       "    <tr>\n",
       "      <th>Aecht Schlenkerla Rauchbier Märzen</th>\n",
       "      <td>0.253841</td>\n",
       "      <td>0.262425</td>\n",
       "      <td>0.252486</td>\n",
       "      <td>0.316928</td>\n",
       "      <td>0.312861</td>\n",
       "      <td>1.000000</td>\n",
       "      <td>0.244490</td>\n",
       "      <td>0.246063</td>\n",
       "      <td>0.297672</td>\n",
       "      <td>0.263248</td>\n",
       "    </tr>\n",
       "    <tr>\n",
       "      <th>AleSmith IPA</th>\n",
       "      <td>0.228479</td>\n",
       "      <td>0.315971</td>\n",
       "      <td>0.266866</td>\n",
       "      <td>0.312343</td>\n",
       "      <td>0.344218</td>\n",
       "      <td>0.244490</td>\n",
       "      <td>1.000000</td>\n",
       "      <td>0.521889</td>\n",
       "      <td>0.277409</td>\n",
       "      <td>0.400741</td>\n",
       "    </tr>\n",
       "    <tr>\n",
       "      <th>AleSmith Speedway Stout</th>\n",
       "      <td>0.227612</td>\n",
       "      <td>0.337541</td>\n",
       "      <td>0.261761</td>\n",
       "      <td>0.307627</td>\n",
       "      <td>0.358754</td>\n",
       "      <td>0.246063</td>\n",
       "      <td>0.521889</td>\n",
       "      <td>1.000000</td>\n",
       "      <td>0.273930</td>\n",
       "      <td>0.420247</td>\n",
       "    </tr>\n",
       "    <tr>\n",
       "      <th>Allagash White</th>\n",
       "      <td>0.340681</td>\n",
       "      <td>0.282273</td>\n",
       "      <td>0.260275</td>\n",
       "      <td>0.360975</td>\n",
       "      <td>0.356804</td>\n",
       "      <td>0.297672</td>\n",
       "      <td>0.277409</td>\n",
       "      <td>0.273930</td>\n",
       "      <td>1.000000</td>\n",
       "      <td>0.295666</td>\n",
       "    </tr>\n",
       "    <tr>\n",
       "      <th>Alpha King Pale Ale</th>\n",
       "      <td>0.293315</td>\n",
       "      <td>0.336796</td>\n",
       "      <td>0.307296</td>\n",
       "      <td>0.385249</td>\n",
       "      <td>0.418582</td>\n",
       "      <td>0.263248</td>\n",
       "      <td>0.400741</td>\n",
       "      <td>0.420247</td>\n",
       "      <td>0.295666</td>\n",
       "      <td>1.000000</td>\n",
       "    </tr>\n",
       "  </tbody>\n",
       "</table>\n",
       "</div>"
      ],
      "text/plain": [
       "                                                  review_overall  \\\n",
       "beer_name                                                     #9   \n",
       "               beer_name                                           \n",
       "review_overall #9                                       1.000000   \n",
       "               120 Minute IPA                           0.275405   \n",
       "               1554 Enlightened Black Ale               0.274103   \n",
       "               60 Minute IPA                            0.388364   \n",
       "               90 Minute IPA                            0.365175   \n",
       "               Aecht Schlenkerla Rauchbier Märzen       0.253841   \n",
       "               AleSmith IPA                             0.228479   \n",
       "               AleSmith Speedway Stout                  0.227612   \n",
       "               Allagash White                           0.340681   \n",
       "               Alpha King Pale Ale                      0.293315   \n",
       "\n",
       "                                                                  \\\n",
       "beer_name                                         120 Minute IPA   \n",
       "               beer_name                                           \n",
       "review_overall #9                                       0.275405   \n",
       "               120 Minute IPA                           1.000000   \n",
       "               1554 Enlightened Black Ale               0.251519   \n",
       "               60 Minute IPA                            0.378258   \n",
       "               90 Minute IPA                            0.410366   \n",
       "               Aecht Schlenkerla Rauchbier Märzen       0.262425   \n",
       "               AleSmith IPA                             0.315971   \n",
       "               AleSmith Speedway Stout                  0.337541   \n",
       "               Allagash White                           0.282273   \n",
       "               Alpha King Pale Ale                      0.336796   \n",
       "\n",
       "                                                                              \\\n",
       "beer_name                                         1554 Enlightened Black Ale   \n",
       "               beer_name                                                       \n",
       "review_overall #9                                                   0.274103   \n",
       "               120 Minute IPA                                       0.251519   \n",
       "               1554 Enlightened Black Ale                           1.000000   \n",
       "               60 Minute IPA                                        0.319887   \n",
       "               90 Minute IPA                                        0.314028   \n",
       "               Aecht Schlenkerla Rauchbier Märzen                   0.252486   \n",
       "               AleSmith IPA                                         0.266866   \n",
       "               AleSmith Speedway Stout                              0.261761   \n",
       "               Allagash White                                       0.260275   \n",
       "               Alpha King Pale Ale                                  0.307296   \n",
       "\n",
       "                                                                               \\\n",
       "beer_name                                         60 Minute IPA 90 Minute IPA   \n",
       "               beer_name                                                        \n",
       "review_overall #9                                      0.388364      0.365175   \n",
       "               120 Minute IPA                          0.378258      0.410366   \n",
       "               1554 Enlightened Black Ale              0.319887      0.314028   \n",
       "               60 Minute IPA                           1.000000      0.533042   \n",
       "               90 Minute IPA                           0.533042      1.000000   \n",
       "               Aecht Schlenkerla Rauchbier Märzen      0.316928      0.312861   \n",
       "               AleSmith IPA                            0.312343      0.344218   \n",
       "               AleSmith Speedway Stout                 0.307627      0.358754   \n",
       "               Allagash White                          0.360975      0.356804   \n",
       "               Alpha King Pale Ale                     0.385249      0.418582   \n",
       "\n",
       "                                                                                      \\\n",
       "beer_name                                         Aecht Schlenkerla Rauchbier Märzen   \n",
       "               beer_name                                                               \n",
       "review_overall #9                                                           0.253841   \n",
       "               120 Minute IPA                                               0.262425   \n",
       "               1554 Enlightened Black Ale                                   0.252486   \n",
       "               60 Minute IPA                                                0.316928   \n",
       "               90 Minute IPA                                                0.312861   \n",
       "               Aecht Schlenkerla Rauchbier Märzen                           1.000000   \n",
       "               AleSmith IPA                                                 0.244490   \n",
       "               AleSmith Speedway Stout                                      0.246063   \n",
       "               Allagash White                                               0.297672   \n",
       "               Alpha King Pale Ale                                          0.263248   \n",
       "\n",
       "                                                                \\\n",
       "beer_name                                         AleSmith IPA   \n",
       "               beer_name                                         \n",
       "review_overall #9                                     0.228479   \n",
       "               120 Minute IPA                         0.315971   \n",
       "               1554 Enlightened Black Ale             0.266866   \n",
       "               60 Minute IPA                          0.312343   \n",
       "               90 Minute IPA                          0.344218   \n",
       "               Aecht Schlenkerla Rauchbier Märzen     0.244490   \n",
       "               AleSmith IPA                           1.000000   \n",
       "               AleSmith Speedway Stout                0.521889   \n",
       "               Allagash White                         0.277409   \n",
       "               Alpha King Pale Ale                    0.400741   \n",
       "\n",
       "                                                                           \\\n",
       "beer_name                                         AleSmith Speedway Stout   \n",
       "               beer_name                                                    \n",
       "review_overall #9                                                0.227612   \n",
       "               120 Minute IPA                                    0.337541   \n",
       "               1554 Enlightened Black Ale                        0.261761   \n",
       "               60 Minute IPA                                     0.307627   \n",
       "               90 Minute IPA                                     0.358754   \n",
       "               Aecht Schlenkerla Rauchbier Märzen                0.246063   \n",
       "               AleSmith IPA                                      0.521889   \n",
       "               AleSmith Speedway Stout                           1.000000   \n",
       "               Allagash White                                    0.273930   \n",
       "               Alpha King Pale Ale                               0.420247   \n",
       "\n",
       "                                                                  \\\n",
       "beer_name                                         Allagash White   \n",
       "               beer_name                                           \n",
       "review_overall #9                                       0.340681   \n",
       "               120 Minute IPA                           0.282273   \n",
       "               1554 Enlightened Black Ale               0.260275   \n",
       "               60 Minute IPA                            0.360975   \n",
       "               90 Minute IPA                            0.356804   \n",
       "               Aecht Schlenkerla Rauchbier Märzen       0.297672   \n",
       "               AleSmith IPA                             0.277409   \n",
       "               AleSmith Speedway Stout                  0.273930   \n",
       "               Allagash White                           1.000000   \n",
       "               Alpha King Pale Ale                      0.295666   \n",
       "\n",
       "                                                                       \n",
       "beer_name                                         Alpha King Pale Ale  \n",
       "               beer_name                                               \n",
       "review_overall #9                                            0.293315  \n",
       "               120 Minute IPA                                0.336796  \n",
       "               1554 Enlightened Black Ale                    0.307296  \n",
       "               60 Minute IPA                                 0.385249  \n",
       "               90 Minute IPA                                 0.418582  \n",
       "               Aecht Schlenkerla Rauchbier Märzen            0.263248  \n",
       "               AleSmith IPA                                  0.400741  \n",
       "               AleSmith Speedway Stout                       0.420247  \n",
       "               Allagash White                                0.295666  \n",
       "               Alpha King Pale Ale                           1.000000  "
      ]
     },
     "execution_count": 40,
     "metadata": {},
     "output_type": "execute_result"
    }
   ],
   "source": [
    "dists.ix[:10,:10]"
   ]
  },
  {
   "cell_type": "markdown",
   "metadata": {},
   "source": [
    "Select some beers and look their distances to other beers"
   ]
  },
  {
   "cell_type": "code",
   "execution_count": 66,
   "metadata": {
    "collapsed": false
   },
   "outputs": [
    {
     "ename": "TypeError",
     "evalue": "cannot perform reduce with flexible type",
     "output_type": "error",
     "traceback": [
      "\u001b[0;31m---------------------------------------------------------------------------\u001b[0m",
      "\u001b[0;31mTypeError\u001b[0m                                 Traceback (most recent call last)",
      "\u001b[0;32m<ipython-input-66-02b94b5d21ff>\u001b[0m in \u001b[0;36m<module>\u001b[0;34m()\u001b[0m\n\u001b[1;32m      1\u001b[0m \u001b[0msome_beers\u001b[0m \u001b[0;34m=\u001b[0m \u001b[0;34m[\u001b[0m\u001b[0;34m'AleSmith IPA'\u001b[0m\u001b[0;34m,\u001b[0m \u001b[0;34m'Allagash White'\u001b[0m\u001b[0;34m,\u001b[0m \u001b[0;34m'120 Minute IPA'\u001b[0m\u001b[0;34m]\u001b[0m\u001b[0;34m\u001b[0m\u001b[0m\n\u001b[0;32m----> 2\u001b[0;31m \u001b[0mdists\u001b[0m\u001b[0;34m.\u001b[0m\u001b[0miloc\u001b[0m\u001b[0;34m[\u001b[0m\u001b[0msome_beers\u001b[0m\u001b[0;34m]\u001b[0m\u001b[0;34m\u001b[0m\u001b[0m\n\u001b[0m",
      "\u001b[0;32m/Users/rutwang/anaconda/lib/python2.7/site-packages/pandas/core/indexing.pyc\u001b[0m in \u001b[0;36m__getitem__\u001b[0;34m(self, key)\u001b[0m\n\u001b[1;32m   1178\u001b[0m             \u001b[0;32mreturn\u001b[0m \u001b[0mself\u001b[0m\u001b[0;34m.\u001b[0m\u001b[0m_getitem_tuple\u001b[0m\u001b[0;34m(\u001b[0m\u001b[0mkey\u001b[0m\u001b[0;34m)\u001b[0m\u001b[0;34m\u001b[0m\u001b[0m\n\u001b[1;32m   1179\u001b[0m         \u001b[0;32melse\u001b[0m\u001b[0;34m:\u001b[0m\u001b[0;34m\u001b[0m\u001b[0m\n\u001b[0;32m-> 1180\u001b[0;31m             \u001b[0;32mreturn\u001b[0m \u001b[0mself\u001b[0m\u001b[0;34m.\u001b[0m\u001b[0m_getitem_axis\u001b[0m\u001b[0;34m(\u001b[0m\u001b[0mkey\u001b[0m\u001b[0;34m,\u001b[0m \u001b[0maxis\u001b[0m\u001b[0;34m=\u001b[0m\u001b[0;36m0\u001b[0m\u001b[0;34m)\u001b[0m\u001b[0;34m\u001b[0m\u001b[0m\n\u001b[0m\u001b[1;32m   1181\u001b[0m \u001b[0;34m\u001b[0m\u001b[0m\n\u001b[1;32m   1182\u001b[0m     \u001b[0;32mdef\u001b[0m \u001b[0m_getitem_axis\u001b[0m\u001b[0;34m(\u001b[0m\u001b[0mself\u001b[0m\u001b[0;34m,\u001b[0m \u001b[0mkey\u001b[0m\u001b[0;34m,\u001b[0m \u001b[0maxis\u001b[0m\u001b[0;34m=\u001b[0m\u001b[0;36m0\u001b[0m\u001b[0;34m)\u001b[0m\u001b[0;34m:\u001b[0m\u001b[0;34m\u001b[0m\u001b[0m\n",
      "\u001b[0;32m/Users/rutwang/anaconda/lib/python2.7/site-packages/pandas/core/indexing.pyc\u001b[0m in \u001b[0;36m_getitem_axis\u001b[0;34m(self, key, axis)\u001b[0m\n\u001b[1;32m   1454\u001b[0m \u001b[0;34m\u001b[0m\u001b[0m\n\u001b[1;32m   1455\u001b[0m                 \u001b[0;31m# validate list bounds\u001b[0m\u001b[0;34m\u001b[0m\u001b[0;34m\u001b[0m\u001b[0m\n\u001b[0;32m-> 1456\u001b[0;31m                 \u001b[0mself\u001b[0m\u001b[0;34m.\u001b[0m\u001b[0m_is_valid_list_like\u001b[0m\u001b[0;34m(\u001b[0m\u001b[0mkey\u001b[0m\u001b[0;34m,\u001b[0m \u001b[0maxis\u001b[0m\u001b[0;34m)\u001b[0m\u001b[0;34m\u001b[0m\u001b[0m\n\u001b[0m\u001b[1;32m   1457\u001b[0m \u001b[0;34m\u001b[0m\u001b[0m\n\u001b[1;32m   1458\u001b[0m                 \u001b[0;31m# force an actual list\u001b[0m\u001b[0;34m\u001b[0m\u001b[0;34m\u001b[0m\u001b[0m\n",
      "\u001b[0;32m/Users/rutwang/anaconda/lib/python2.7/site-packages/pandas/core/indexing.pyc\u001b[0m in \u001b[0;36m_is_valid_list_like\u001b[0;34m(self, key, axis)\u001b[0m\n\u001b[1;32m   1392\u001b[0m         \u001b[0max\u001b[0m \u001b[0;34m=\u001b[0m \u001b[0mself\u001b[0m\u001b[0;34m.\u001b[0m\u001b[0mobj\u001b[0m\u001b[0;34m.\u001b[0m\u001b[0m_get_axis\u001b[0m\u001b[0;34m(\u001b[0m\u001b[0maxis\u001b[0m\u001b[0;34m)\u001b[0m\u001b[0;34m\u001b[0m\u001b[0m\n\u001b[1;32m   1393\u001b[0m         \u001b[0ml\u001b[0m \u001b[0;34m=\u001b[0m \u001b[0mlen\u001b[0m\u001b[0;34m(\u001b[0m\u001b[0max\u001b[0m\u001b[0;34m)\u001b[0m\u001b[0;34m\u001b[0m\u001b[0m\n\u001b[0;32m-> 1394\u001b[0;31m         \u001b[0;32mif\u001b[0m \u001b[0mlen\u001b[0m\u001b[0;34m(\u001b[0m\u001b[0marr\u001b[0m\u001b[0;34m)\u001b[0m \u001b[0;32mand\u001b[0m \u001b[0;34m(\u001b[0m\u001b[0marr\u001b[0m\u001b[0;34m.\u001b[0m\u001b[0mmax\u001b[0m\u001b[0;34m(\u001b[0m\u001b[0;34m)\u001b[0m \u001b[0;34m>=\u001b[0m \u001b[0ml\u001b[0m \u001b[0;32mor\u001b[0m \u001b[0marr\u001b[0m\u001b[0;34m.\u001b[0m\u001b[0mmin\u001b[0m\u001b[0;34m(\u001b[0m\u001b[0;34m)\u001b[0m \u001b[0;34m<=\u001b[0m \u001b[0;34m-\u001b[0m\u001b[0ml\u001b[0m\u001b[0;34m)\u001b[0m\u001b[0;34m:\u001b[0m\u001b[0;34m\u001b[0m\u001b[0m\n\u001b[0m\u001b[1;32m   1395\u001b[0m             \u001b[0;32mraise\u001b[0m \u001b[0mIndexError\u001b[0m\u001b[0;34m(\u001b[0m\u001b[0;34m\"positional indexers are out-of-bounds\"\u001b[0m\u001b[0;34m)\u001b[0m\u001b[0;34m\u001b[0m\u001b[0m\n\u001b[1;32m   1396\u001b[0m \u001b[0;34m\u001b[0m\u001b[0m\n",
      "\u001b[0;32m/Users/rutwang/anaconda/lib/python2.7/site-packages/numpy/core/_methods.pyc\u001b[0m in \u001b[0;36m_amax\u001b[0;34m(a, axis, out, keepdims)\u001b[0m\n\u001b[1;32m     24\u001b[0m \u001b[0;31m# small reductions\u001b[0m\u001b[0;34m\u001b[0m\u001b[0;34m\u001b[0m\u001b[0m\n\u001b[1;32m     25\u001b[0m \u001b[0;32mdef\u001b[0m \u001b[0m_amax\u001b[0m\u001b[0;34m(\u001b[0m\u001b[0ma\u001b[0m\u001b[0;34m,\u001b[0m \u001b[0maxis\u001b[0m\u001b[0;34m=\u001b[0m\u001b[0mNone\u001b[0m\u001b[0;34m,\u001b[0m \u001b[0mout\u001b[0m\u001b[0;34m=\u001b[0m\u001b[0mNone\u001b[0m\u001b[0;34m,\u001b[0m \u001b[0mkeepdims\u001b[0m\u001b[0;34m=\u001b[0m\u001b[0mFalse\u001b[0m\u001b[0;34m)\u001b[0m\u001b[0;34m:\u001b[0m\u001b[0;34m\u001b[0m\u001b[0m\n\u001b[0;32m---> 26\u001b[0;31m     \u001b[0;32mreturn\u001b[0m \u001b[0mumr_maximum\u001b[0m\u001b[0;34m(\u001b[0m\u001b[0ma\u001b[0m\u001b[0;34m,\u001b[0m \u001b[0maxis\u001b[0m\u001b[0;34m,\u001b[0m \u001b[0mNone\u001b[0m\u001b[0;34m,\u001b[0m \u001b[0mout\u001b[0m\u001b[0;34m,\u001b[0m \u001b[0mkeepdims\u001b[0m\u001b[0;34m)\u001b[0m\u001b[0;34m\u001b[0m\u001b[0m\n\u001b[0m\u001b[1;32m     27\u001b[0m \u001b[0;34m\u001b[0m\u001b[0m\n\u001b[1;32m     28\u001b[0m \u001b[0;32mdef\u001b[0m \u001b[0m_amin\u001b[0m\u001b[0;34m(\u001b[0m\u001b[0ma\u001b[0m\u001b[0;34m,\u001b[0m \u001b[0maxis\u001b[0m\u001b[0;34m=\u001b[0m\u001b[0mNone\u001b[0m\u001b[0;34m,\u001b[0m \u001b[0mout\u001b[0m\u001b[0;34m=\u001b[0m\u001b[0mNone\u001b[0m\u001b[0;34m,\u001b[0m \u001b[0mkeepdims\u001b[0m\u001b[0;34m=\u001b[0m\u001b[0mFalse\u001b[0m\u001b[0;34m)\u001b[0m\u001b[0;34m:\u001b[0m\u001b[0;34m\u001b[0m\u001b[0m\n",
      "\u001b[0;31mTypeError\u001b[0m: cannot perform reduce with flexible type"
     ]
    }
   ],
   "source": [
    "some_beers = ['AleSmith IPA', 'Allagash White', '120 Minute IPA']"
   ]
  },
  {
   "cell_type": "markdown",
   "metadata": {},
   "source": [
    "Sum the distances of my favourite beers by row, to have one distance from each beer in the sample"
   ]
  },
  {
   "cell_type": "code",
   "execution_count": 47,
   "metadata": {
    "collapsed": false
   },
   "outputs": [],
   "source": [
    "beer_summed = dists.apply(lambda row: np.sum(row), axis =1)"
   ]
  },
  {
   "cell_type": "markdown",
   "metadata": {},
   "source": [
    "#### Performance"
   ]
  },
  {
   "cell_type": "markdown",
   "metadata": {},
   "source": [
    "Optional: which one is faster? use ```%timeit``` to check"
   ]
  },
  {
   "cell_type": "code",
   "execution_count": 52,
   "metadata": {
    "collapsed": false
   },
   "outputs": [
    {
     "name": "stdout",
     "output_type": "stream",
     "text": [
      "10 loops, best of 3: 18.2 ms per loop\n"
     ]
    }
   ],
   "source": [
    "%timeit dists.apply(lambda row: np.sum(row), axis =1)"
   ]
  },
  {
   "cell_type": "code",
   "execution_count": 51,
   "metadata": {
    "collapsed": false
   },
   "outputs": [
    {
     "name": "stdout",
     "output_type": "stream",
     "text": [
      "1000 loops, best of 3: 337 µs per loop\n"
     ]
    }
   ],
   "source": [
    "%timeit np.sum(dists, axis =1)"
   ]
  },
  {
   "cell_type": "markdown",
   "metadata": {},
   "source": [
    "#### Ranking"
   ]
  },
  {
   "cell_type": "markdown",
   "metadata": {},
   "source": [
    "Sort summed beers from best to worse"
   ]
  },
  {
   "cell_type": "code",
   "execution_count": 48,
   "metadata": {
    "collapsed": false
   },
   "outputs": [],
   "source": [
    "beer_summed = beer_summed.order(ascending = False)"
   ]
  },
  {
   "cell_type": "code",
   "execution_count": 49,
   "metadata": {
    "collapsed": false
   },
   "outputs": [
    {
     "data": {
      "text/plain": [
       "                beer_name                                 \n",
       "review_overall  Storm King Stout                              95.661660\n",
       "                Sierra Nevada Celebration Ale                 94.964305\n",
       "                Stone IPA (India Pale Ale)                    94.700958\n",
       "                Sierra Nevada Bigfoot Barleywine Style Ale    94.676854\n",
       "                Hop Rod Rye                                   94.618248\n",
       "dtype: float64"
      ]
     },
     "execution_count": 49,
     "metadata": {},
     "output_type": "execute_result"
    }
   ],
   "source": [
    "beer_summed.head()"
   ]
  },
  {
   "cell_type": "markdown",
   "metadata": {},
   "source": [
    "Filter out the beers used as input and transform to list"
   ]
  },
  {
   "cell_type": "code",
   "execution_count": 57,
   "metadata": {
    "collapsed": false
   },
   "outputs": [
    {
     "data": {
      "text/plain": [
       "[95.661659884219276,\n",
       " 94.964304982769647,\n",
       " 94.700957998207514,\n",
       " 94.676853918693652,\n",
       " 94.618248079200811]"
      ]
     },
     "execution_count": 57,
     "metadata": {},
     "output_type": "execute_result"
    }
   ],
   "source": [
    "ranked_beers = beer_summed.tolist()\n",
    "ranked_beers[:5]"
   ]
  },
  {
   "cell_type": "markdown",
   "metadata": {},
   "source": [
    "Define a function that does what we just did for an arbitrary input list of beers. it should also receive the maximum number of beers requested n as optional parameter."
   ]
  },
  {
   "cell_type": "code",
   "execution_count": null,
   "metadata": {
    "collapsed": false
   },
   "outputs": [],
   "source": []
  },
  {
   "cell_type": "markdown",
   "metadata": {},
   "source": [
    "Test your function. Find the 10 beers most similar to \"120 Minute IPA\""
   ]
  },
  {
   "cell_type": "code",
   "execution_count": null,
   "metadata": {
    "collapsed": false
   },
   "outputs": [],
   "source": []
  },
  {
   "cell_type": "markdown",
   "metadata": {},
   "source": [
    "Cool, let's try again with the 10 beers most similar to [\"Coors Light\", \"Bud Light\", \"Amstel Light\"]"
   ]
  },
  {
   "cell_type": "code",
   "execution_count": null,
   "metadata": {
    "collapsed": false
   },
   "outputs": [],
   "source": []
  },
  {
   "cell_type": "markdown",
   "metadata": {},
   "source": [
    "Optional: register an account on yhat and deploy your model following the instructions [here](https://docs.yhathq.com/python/examples/beer-recommender) and [here](http://nbviewer.ipython.org/gist/glamp/20a18d52c539b87de2af)"
   ]
  },
  {
   "cell_type": "markdown",
   "metadata": {},
   "source": [
    "## Recsys\n",
    "\n",
    "A python library for implementing a recommender system"
   ]
  },
  {
   "cell_type": "code",
   "execution_count": null,
   "metadata": {
    "collapsed": false
   },
   "outputs": [],
   "source": [
    "\"\"\"\n",
    "##install python-recsys\n",
    "\n",
    "### first install dependencies\n",
    "\n",
    "pip install csc-pysparse networkx divisi2\n",
    "\n",
    "### then install recsys\n",
    "git clone https://github.com/python-recsys/python-recsys.git\n",
    "cd python-recsys/\n",
    "\n",
    "python setup.py install\n",
    "\"\"\""
   ]
  },
  {
   "cell_type": "markdown",
   "metadata": {},
   "source": [
    "Load recsys.algotihm, set VERBOSE = True import SVD class"
   ]
  },
  {
   "cell_type": "code",
   "execution_count": null,
   "metadata": {
    "collapsed": false
   },
   "outputs": [],
   "source": [
    "import recsys.algorithm\n",
    "recsys.algorithm.VERBOSE = True\n",
    "from recsys.algorithm.factorize import SVD"
   ]
  },
  {
   "cell_type": "markdown",
   "metadata": {},
   "source": [
    "Let's look at the files"
   ]
  },
  {
   "cell_type": "code",
   "execution_count": null,
   "metadata": {
    "collapsed": false
   },
   "outputs": [],
   "source": [
    "! ls movielens"
   ]
  },
  {
   "cell_type": "markdown",
   "metadata": {},
   "source": [
    "Import 'movies.dat' to a 'movies' pandas dataframe. Make sure you name the columns, use the correct separator and define the index."
   ]
  },
  {
   "cell_type": "code",
   "execution_count": null,
   "metadata": {
    "collapsed": false
   },
   "outputs": [],
   "source": []
  },
  {
   "cell_type": "code",
   "execution_count": null,
   "metadata": {
    "collapsed": false
   },
   "outputs": [],
   "source": [
    "movies.head()"
   ]
  },
  {
   "cell_type": "markdown",
   "metadata": {},
   "source": [
    "Import 'ratings.dat' to a 'ratings' pandas dataframe. Make sure you name the columns, use the correct separator."
   ]
  },
  {
   "cell_type": "code",
   "execution_count": null,
   "metadata": {
    "collapsed": false
   },
   "outputs": [],
   "source": []
  },
  {
   "cell_type": "code",
   "execution_count": null,
   "metadata": {
    "collapsed": false
   },
   "outputs": [],
   "source": [
    "ratings.head()"
   ]
  },
  {
   "cell_type": "markdown",
   "metadata": {},
   "source": [
    "Initialize an SVD instance"
   ]
  },
  {
   "cell_type": "code",
   "execution_count": null,
   "metadata": {
    "collapsed": false
   },
   "outputs": [],
   "source": [
    "svd = SVD()"
   ]
  },
  {
   "cell_type": "markdown",
   "metadata": {},
   "source": [
    "Populate it with the data from the ratings dataset, using the built in load_data method"
   ]
  },
  {
   "cell_type": "code",
   "execution_count": null,
   "metadata": {
    "collapsed": false
   },
   "outputs": [],
   "source": []
  },
  {
   "cell_type": "markdown",
   "metadata": {},
   "source": [
    "Compute SVD\n",
    "\n",
    "$M=U \\Sigma V^T$:"
   ]
  },
  {
   "cell_type": "code",
   "execution_count": null,
   "metadata": {
    "collapsed": false
   },
   "outputs": [],
   "source": [
    "k = 100\n"
   ]
  },
  {
   "cell_type": "markdown",
   "metadata": {},
   "source": [
    "you can also save the output SVD model (in a zip file)"
   ]
  },
  {
   "cell_type": "code",
   "execution_count": null,
   "metadata": {
    "collapsed": false
   },
   "outputs": [],
   "source": [
    "# svd.compute(k=k, min_values=10, pre_normalize=None, mean_center=True, post_normalize=True, savefile='/tmp/movielens')"
   ]
  },
  {
   "cell_type": "markdown",
   "metadata": {},
   "source": [
    "Reload a saved model:"
   ]
  },
  {
   "cell_type": "code",
   "execution_count": null,
   "metadata": {
    "collapsed": false
   },
   "outputs": [],
   "source": [
    "# svd2 = SVD(filename='/tmp/movielens')"
   ]
  },
  {
   "cell_type": "markdown",
   "metadata": {},
   "source": [
    "Find the ITEMID number for \"Toy Story (1995)\""
   ]
  },
  {
   "cell_type": "code",
   "execution_count": null,
   "metadata": {
    "collapsed": false
   },
   "outputs": [],
   "source": []
  },
  {
   "cell_type": "markdown",
   "metadata": {},
   "source": [
    "Find the ITEMID number for \"Bug's Life, A (1998)\""
   ]
  },
  {
   "cell_type": "code",
   "execution_count": null,
   "metadata": {
    "collapsed": false
   },
   "outputs": [],
   "source": []
  },
  {
   "cell_type": "markdown",
   "metadata": {},
   "source": [
    "Compute similarity between the two movies"
   ]
  },
  {
   "cell_type": "code",
   "execution_count": null,
   "metadata": {
    "collapsed": false
   },
   "outputs": [],
   "source": []
  },
  {
   "cell_type": "markdown",
   "metadata": {},
   "source": [
    "Get movies similar to Toy Story"
   ]
  },
  {
   "cell_type": "code",
   "execution_count": null,
   "metadata": {
    "collapsed": false
   },
   "outputs": [],
   "source": []
  },
  {
   "cell_type": "markdown",
   "metadata": {},
   "source": [
    "Predict rating for a given user and movie, $\\hat{r}_{ui}$"
   ]
  },
  {
   "cell_type": "code",
   "execution_count": null,
   "metadata": {
    "collapsed": false
   },
   "outputs": [],
   "source": []
  },
  {
   "cell_type": "code",
   "execution_count": null,
   "metadata": {
    "collapsed": false
   },
   "outputs": [],
   "source": []
  },
  {
   "cell_type": "markdown",
   "metadata": {},
   "source": [
    "Recommend non rated movies to a user"
   ]
  },
  {
   "cell_type": "code",
   "execution_count": null,
   "metadata": {
    "collapsed": false
   },
   "outputs": [],
   "source": []
  },
  {
   "cell_type": "markdown",
   "metadata": {},
   "source": [
    "Which users should see Toy Story? (e.g. which users -that have not rated Toy Story- would give it a high rating?)"
   ]
  },
  {
   "cell_type": "code",
   "execution_count": null,
   "metadata": {
    "collapsed": false
   },
   "outputs": [],
   "source": []
  },
  {
   "cell_type": "markdown",
   "metadata": {},
   "source": [
    "Find out more here: [https://github.com/ocelma/python-recsys](https://github.com/ocelma/python-recsys)"
   ]
  }
 ],
 "metadata": {
  "kernelspec": {
   "display_name": "Python 2",
   "language": "python",
   "name": "python2"
  },
  "language_info": {
   "codemirror_mode": {
    "name": "ipython",
    "version": 2
   },
   "file_extension": ".py",
   "mimetype": "text/x-python",
   "name": "python",
   "nbconvert_exporter": "python",
   "pygments_lexer": "ipython2",
   "version": "2.7.9"
  }
 },
 "nbformat": 4,
 "nbformat_minor": 0
}
