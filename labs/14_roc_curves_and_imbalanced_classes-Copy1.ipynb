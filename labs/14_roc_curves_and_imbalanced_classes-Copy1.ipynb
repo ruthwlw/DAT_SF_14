{
 "cells": [
  {
   "cell_type": "markdown",
   "metadata": {},
   "source": [
    "### ROC Curves, Imbalanced Classes\n",
    "\n",
    "In this lab/lecture, we will learn about imbalanced classes and ROC curves, a more sophisticated measure of classifier performance than outputing just an error rate.\n",
    "\n",
    "ROC curves work in the context of Binary classification. And they capture the tradeoff between the True Positive and False positive percentages. A perfect classifier would have 100% true positive percentage, meaning that it classified all the elements in the positive class as being positive and it made no errors in misclassifying the elements in the negative class as being positive. \n",
    "\n",
    "True Positive Percentage = (# True Positives) / (# All Positives)\n",
    "\n",
    "False Positive Percentage = (# False Positives) / (# All Negatives)\n",
    "\n",
    "Although this is possible, in reality, as you increase the true positive percentage, you also increase the false positive percentage. The ROC curve captures this relationship. \n"
   ]
  },
  {
   "cell_type": "code",
   "execution_count": 3,
   "metadata": {
    "collapsed": true
   },
   "outputs": [],
   "source": [
    "%matplotlib inline\n",
    "import matplotlib.pyplot as plt\n",
    "import numpy as np\n",
    "import pandas as pd\n",
    "import seaborn as sns\n",
    "import random\n",
    "from sklearn.preprocessing import OneHotEncoder\n",
    "from sklearn.cross_validation import train_test_split\n",
    "from sklearn.linear_model import LogisticRegression\n",
    "from sklearn.metrics import (classification_report, confusion_matrix, roc_curve, auc,\n",
    "                             accuracy_score, roc_auc_score)"
   ]
  },
  {
   "cell_type": "markdown",
   "metadata": {},
   "source": [
    "https://archive.ics.uci.edu/ml/datasets/Blood+Transfusion+Service+Center"
   ]
  },
  {
   "cell_type": "code",
   "execution_count": 4,
   "metadata": {
    "collapsed": false
   },
   "outputs": [],
   "source": [
    "df = pd.read_csv('data/blood_donations.csv', index_col = 'Unnamed: 0')"
   ]
  },
  {
   "cell_type": "code",
   "execution_count": 5,
   "metadata": {
    "collapsed": false
   },
   "outputs": [
    {
     "name": "stdout",
     "output_type": "stream",
     "text": [
      "<class 'pandas.core.frame.DataFrame'>\n",
      "Int64Index: 576 entries, 619 to 74\n",
      "Data columns (total 5 columns):\n",
      "Months since Last Donation     576 non-null int64\n",
      "Number of Donations            576 non-null int64\n",
      "Total Volume Donated (c.c.)    576 non-null int64\n",
      "Months since First Donation    576 non-null int64\n",
      "Made Donation in March 2007    576 non-null int64\n",
      "dtypes: int64(5)\n",
      "memory usage: 27.0 KB\n"
     ]
    }
   ],
   "source": [
    "df.info()"
   ]
  },
  {
   "cell_type": "code",
   "execution_count": 6,
   "metadata": {
    "collapsed": false
   },
   "outputs": [
    {
     "data": {
      "text/html": [
       "<div style=\"max-height:1000px;max-width:1500px;overflow:auto;\">\n",
       "<table border=\"1\" class=\"dataframe\">\n",
       "  <thead>\n",
       "    <tr style=\"text-align: right;\">\n",
       "      <th></th>\n",
       "      <th>Months since Last Donation</th>\n",
       "      <th>Number of Donations</th>\n",
       "      <th>Total Volume Donated (c.c.)</th>\n",
       "      <th>Months since First Donation</th>\n",
       "      <th>Made Donation in March 2007</th>\n",
       "    </tr>\n",
       "  </thead>\n",
       "  <tbody>\n",
       "    <tr>\n",
       "      <th>619</th>\n",
       "      <td>2</td>\n",
       "      <td>50</td>\n",
       "      <td>12500</td>\n",
       "      <td>98</td>\n",
       "      <td>1</td>\n",
       "    </tr>\n",
       "    <tr>\n",
       "      <th>664</th>\n",
       "      <td>0</td>\n",
       "      <td>13</td>\n",
       "      <td>3250</td>\n",
       "      <td>28</td>\n",
       "      <td>1</td>\n",
       "    </tr>\n",
       "    <tr>\n",
       "      <th>441</th>\n",
       "      <td>1</td>\n",
       "      <td>16</td>\n",
       "      <td>4000</td>\n",
       "      <td>35</td>\n",
       "      <td>1</td>\n",
       "    </tr>\n",
       "    <tr>\n",
       "      <th>160</th>\n",
       "      <td>2</td>\n",
       "      <td>20</td>\n",
       "      <td>5000</td>\n",
       "      <td>45</td>\n",
       "      <td>1</td>\n",
       "    </tr>\n",
       "    <tr>\n",
       "      <th>358</th>\n",
       "      <td>1</td>\n",
       "      <td>24</td>\n",
       "      <td>6000</td>\n",
       "      <td>77</td>\n",
       "      <td>0</td>\n",
       "    </tr>\n",
       "  </tbody>\n",
       "</table>\n",
       "</div>"
      ],
      "text/plain": [
       "     Months since Last Donation  Number of Donations  \\\n",
       "619                           2                   50   \n",
       "664                           0                   13   \n",
       "441                           1                   16   \n",
       "160                           2                   20   \n",
       "358                           1                   24   \n",
       "\n",
       "     Total Volume Donated (c.c.)  Months since First Donation  \\\n",
       "619                        12500                           98   \n",
       "664                         3250                           28   \n",
       "441                         4000                           35   \n",
       "160                         5000                           45   \n",
       "358                         6000                           77   \n",
       "\n",
       "     Made Donation in March 2007  \n",
       "619                            1  \n",
       "664                            1  \n",
       "441                            1  \n",
       "160                            1  \n",
       "358                            0  "
      ]
     },
     "execution_count": 6,
     "metadata": {},
     "output_type": "execute_result"
    }
   ],
   "source": [
    "df.head()"
   ]
  },
  {
   "cell_type": "code",
   "execution_count": 7,
   "metadata": {
    "collapsed": false
   },
   "outputs": [],
   "source": [
    "df.columns = ['Months_since_Last', 'Num_of_Donations', 'Total_Vol_Donated',\n",
    "              'Months_since_First', 'Donation_March_2007']"
   ]
  },
  {
   "cell_type": "code",
   "execution_count": 6,
   "metadata": {
    "collapsed": false
   },
   "outputs": [
    {
     "data": {
      "text/html": [
       "<div style=\"max-height:1000px;max-width:1500px;overflow:auto;\">\n",
       "<table border=\"1\" class=\"dataframe\">\n",
       "  <thead>\n",
       "    <tr style=\"text-align: right;\">\n",
       "      <th></th>\n",
       "      <th>Months_since_Last</th>\n",
       "      <th>Num_of_Donations</th>\n",
       "      <th>Total_Vol_Donated</th>\n",
       "      <th>Months_since_First</th>\n",
       "      <th>Donation_March_2007</th>\n",
       "    </tr>\n",
       "  </thead>\n",
       "  <tbody>\n",
       "    <tr>\n",
       "      <th>619</th>\n",
       "      <td>2</td>\n",
       "      <td>50</td>\n",
       "      <td>12500</td>\n",
       "      <td>98</td>\n",
       "      <td>1</td>\n",
       "    </tr>\n",
       "    <tr>\n",
       "      <th>664</th>\n",
       "      <td>0</td>\n",
       "      <td>13</td>\n",
       "      <td>3250</td>\n",
       "      <td>28</td>\n",
       "      <td>1</td>\n",
       "    </tr>\n",
       "    <tr>\n",
       "      <th>441</th>\n",
       "      <td>1</td>\n",
       "      <td>16</td>\n",
       "      <td>4000</td>\n",
       "      <td>35</td>\n",
       "      <td>1</td>\n",
       "    </tr>\n",
       "    <tr>\n",
       "      <th>160</th>\n",
       "      <td>2</td>\n",
       "      <td>20</td>\n",
       "      <td>5000</td>\n",
       "      <td>45</td>\n",
       "      <td>1</td>\n",
       "    </tr>\n",
       "    <tr>\n",
       "      <th>358</th>\n",
       "      <td>1</td>\n",
       "      <td>24</td>\n",
       "      <td>6000</td>\n",
       "      <td>77</td>\n",
       "      <td>0</td>\n",
       "    </tr>\n",
       "  </tbody>\n",
       "</table>\n",
       "</div>"
      ],
      "text/plain": [
       "     Months_since_Last  Num_of_Donations  Total_Vol_Donated  \\\n",
       "619                  2                50              12500   \n",
       "664                  0                13               3250   \n",
       "441                  1                16               4000   \n",
       "160                  2                20               5000   \n",
       "358                  1                24               6000   \n",
       "\n",
       "     Months_since_First  Donation_March_2007  \n",
       "619                  98                    1  \n",
       "664                  28                    1  \n",
       "441                  35                    1  \n",
       "160                  45                    1  \n",
       "358                  77                    0  "
      ]
     },
     "execution_count": 6,
     "metadata": {},
     "output_type": "execute_result"
    }
   ],
   "source": [
    "df.head()"
   ]
  },
  {
   "cell_type": "code",
   "execution_count": 7,
   "metadata": {
    "collapsed": false
   },
   "outputs": [
    {
     "data": {
      "text/plain": [
       "0    438\n",
       "1    138\n",
       "dtype: int64"
      ]
     },
     "execution_count": 7,
     "metadata": {},
     "output_type": "execute_result"
    }
   ],
   "source": [
    "df.Donation_March_2007.value_counts()"
   ]
  },
  {
   "cell_type": "code",
   "execution_count": 8,
   "metadata": {
    "collapsed": true
   },
   "outputs": [],
   "source": [
    "# split the features from the target\n",
    "X = df.drop('Donation_March_2007', axis = 1)\n",
    "y = df.Donation_March_2007\n",
    "\n",
    "# train test split\n",
    "X_train, X_test, y_train, y_test = train_test_split(X, y, test_size=0.3, random_state=0)\n",
    "\n",
    "# train logistic regression, evaluate on test\n",
    "lr = LogisticRegression(C=1)\n",
    "lr.fit(X_train, y_train)\n",
    "    \n",
    "#clf = train_test(data_out)\n",
    "y_pred = lr.predict(X_test)"
   ]
  },
  {
   "cell_type": "code",
   "execution_count": 9,
   "metadata": {
    "collapsed": false
   },
   "outputs": [
    {
     "data": {
      "text/plain": [
       "0.80924855491329484"
      ]
     },
     "execution_count": 9,
     "metadata": {},
     "output_type": "execute_result"
    }
   ],
   "source": [
    "# just using the accuracy score can be misleading\n",
    "accuracy_score(y_test, y_pred)"
   ]
  },
  {
   "cell_type": "code",
   "execution_count": 10,
   "metadata": {
    "collapsed": false
   },
   "outputs": [
    {
     "data": {
      "text/plain": [
       "0.80924855491329484"
      ]
     },
     "execution_count": 10,
     "metadata": {},
     "output_type": "execute_result"
    }
   ],
   "source": [
    "# the accuracy score is just showing the percentage of predictions that match the targets\n",
    "np.mean(y_test == y_pred)"
   ]
  },
  {
   "cell_type": "markdown",
   "metadata": {},
   "source": [
    "### Exercise: Using the confusion matrix calculate the precision and recall scores"
   ]
  },
  {
   "cell_type": "markdown",
   "metadata": {},
   "source": [
    "Precision and recall on page 35 on lecture slides:\n",
    "\n",
    "https://github.com/ga-students/DAT_SF_14/blob/master/slides/lec14.pdf"
   ]
  },
  {
   "cell_type": "code",
   "execution_count": 26,
   "metadata": {
    "collapsed": false
   },
   "outputs": [
    {
     "data": {
      "text/plain": [
       "array([[134,  33],\n",
       "       [  0,   6]])"
      ]
     },
     "execution_count": 26,
     "metadata": {},
     "output_type": "execute_result"
    }
   ],
   "source": [
    "cm = confusion_matrix(y_pred,y_test)\n",
    "cm"
   ]
  },
  {
   "cell_type": "markdown",
   "metadata": {},
   "source": [
    "Confusion Matrix Layout"
   ]
  },
  {
   "cell_type": "code",
   "execution_count": 12,
   "metadata": {
    "collapsed": true
   },
   "outputs": [],
   "source": [
    "# 0, 1\n",
    "#['True Positive', 'False Positive']\n",
    "# ['False Negative', 'True Negative']"
   ]
  },
  {
   "cell_type": "code",
   "execution_count": 29,
   "metadata": {
    "collapsed": false
   },
   "outputs": [
    {
     "name": "stdout",
     "output_type": "stream",
     "text": [
      "Precision for \"No donation\": 1.0\n",
      "precision for \"Donated\": 0.802395209581\n",
      "Recall for \"No donation\": 0.153846153846\n",
      "Recall for \"Donated\": 1.0\n"
     ]
    }
   ],
   "source": [
    "# Precision for \"No donation\"\n",
    "print 'Precision for \"No donation\":', 134.0/(134+33)\n",
    "# Precision for \"Donated\"\n",
    "print 'precision for \"Donated\":',6.0/(6+0) \n",
    "\n",
    "# Recall for \"No donation\"\n",
    "print 'Recall for \"No donation\":', 134.0/(134+0)\n",
    "\n",
    "# Recall for \"Donated\"\n",
    "print 'Recall for \"Donated\":',6.0/(33+6)"
   ]
  },
  {
   "cell_type": "code",
   "execution_count": 17,
   "metadata": {
    "collapsed": false
   },
   "outputs": [
    {
     "name": "stdout",
     "output_type": "stream",
     "text": [
      "Train Testing Results \n",
      "\n",
      "\n",
      "             precision    recall  f1-score   support\n",
      "\n",
      "no donation       0.80      1.00      0.89       134\n",
      "    donated       1.00      0.15      0.27        39\n",
      "\n",
      "avg / total       0.85      0.81      0.75       173\n",
      "\n"
     ]
    }
   ],
   "source": [
    "# evaluate accuracy\n",
    "print \"Train Testing Results \\n\\n\"\n",
    "\n",
    "print classification_report(y_test, y_pred, target_names=['no donation', 'donated'])"
   ]
  },
  {
   "cell_type": "code",
   "execution_count": 37,
   "metadata": {
    "collapsed": false
   },
   "outputs": [],
   "source": [
    "target_names=['no donation', 'donated']\n",
    "\n",
    "def plot_confusion_matrix(cm, title='Confusion matrix', cmap=plt.cm.Blues):\n",
    "    plt.imshow(cm, interpolation='nearest', cmap=cmap) #interesting\n",
    "    plt.title(title)\n",
    "    plt.colorbar()\n",
    "    tick_marks = np.arange(len(target_names))\n",
    "    plt.xticks(tick_marks, target_names)\n",
    "    plt.yticks(tick_marks, target_names)\n",
    "    plt.tight_layout()\n",
    "    plt.ylabel('True label')\n",
    "    plt.xlabel('Predicted label')"
   ]
  },
  {
   "cell_type": "code",
   "execution_count": 16,
   "metadata": {
    "collapsed": false
   },
   "outputs": [
    {
     "data": {
      "image/png": "[encoded data removed]",
      "text/plain": [
       "<matplotlib.figure.Figure at 0x10a15ff10>"
      ]
     },
     "metadata": {},
     "output_type": "display_data"
    }
   ],
   "source": [
    "plot_confusion_matrix(cm, title='Confusion matrix')"
   ]
  },
  {
   "cell_type": "markdown",
   "metadata": {},
   "source": [
    "## Model evaluation and interpretation, with ROC"
   ]
  },
  {
   "cell_type": "markdown",
   "metadata": {},
   "source": [
    "Logistic Regression is a probabilistic model: instead of just predicting a binary outcome (donated or not) given the input features it can also estimates the probability of the outcome given the input features using the `predict_proba` method:"
   ]
  },
  {
   "cell_type": "code",
   "execution_count": 13,
   "metadata": {
    "collapsed": true
   },
   "outputs": [],
   "source": [
    "p_proba = lr.predict_proba(X_test)"
   ]
  },
  {
   "cell_type": "code",
   "execution_count": 14,
   "metadata": {
    "collapsed": false
   },
   "outputs": [
    {
     "data": {
      "text/plain": [
       "array([[ 0.61833774,  0.38166226],\n",
       "       [ 0.68307696,  0.31692304],\n",
       "       [ 0.76134106,  0.23865894],\n",
       "       [ 0.89087711,  0.10912289],\n",
       "       [ 0.8973795 ,  0.1026205 ]])"
      ]
     },
     "execution_count": 14,
     "metadata": {},
     "output_type": "execute_result"
    }
   ],
   "source": [
    "# predicted probabilities of '0' and '1' respectively\n",
    "p_proba[:5]"
   ]
  },
  {
   "cell_type": "code",
   "execution_count": 15,
   "metadata": {
    "collapsed": false
   },
   "outputs": [
    {
     "data": {
      "text/plain": [
       "[(0, 0.38166226437909845),\n",
       " (0, 0.31692304005584049),\n",
       " (0, 0.23865893662739288),\n",
       " (0, 0.10912289304290568),\n",
       " (0, 0.10262049883424726),\n",
       " (0, 0.13034426412822195),\n",
       " (0, 0.056996560288721715),\n",
       " (0, 0.14262461269908849),\n",
       " (0, 0.16314434882523093),\n",
       " (0, 0.17823601047095869),\n",
       " (0, 0.16755083815563135),\n",
       " (0, 0.10206002710210955),\n",
       " (0, 0.19759609681390936),\n",
       " (0, 0.19822764696942993),\n",
       " (0, 0.29134703336528212),\n",
       " (0, 0.25579890888219925),\n",
       " (0, 0.15161903559572995),\n",
       " (1, 0.92173725785451566),\n",
       " (0, 0.21333375733012444),\n",
       " (0, 0.31025730714601957),\n",
       " (0, 0.19886798092056324),\n",
       " (0, 0.35161210506313983),\n",
       " (0, 0.10912289304290568),\n",
       " (0, 0.098629153730036737),\n",
       " (0, 0.27687443038522802),\n",
       " (0, 0.48929463183854449),\n",
       " (1, 0.53585215324509283),\n",
       " (0, 0.095880918957298639),\n",
       " (0, 0.22865786447822495),\n",
       " (0, 0.33529954344796647),\n",
       " (0, 0.16950116332640494),\n",
       " (0, 0.05415658267211497),\n",
       " (0, 0.36757168396028023),\n",
       " (0, 0.06913709764805967),\n",
       " (0, 0.49928596509314066),\n",
       " (0, 0.21292907988607793),\n",
       " (0, 0.093617754999911776),\n",
       " (1, 0.58839501053279097),\n",
       " (0, 0.01432136385080395),\n",
       " (0, 0.054908860390496611),\n",
       " (0, 0.16030310965673991),\n",
       " (0, 0.29785218291997834),\n",
       " (0, 0.37438118085200811),\n",
       " (0, 0.058702617666802077),\n",
       " (0, 0.29134703336528212),\n",
       " (0, 0.056996560288721715),\n",
       " (0, 0.15701328763129768),\n",
       " (0, 0.20603238318662287),\n",
       " (0, 0.20164114743819758),\n",
       " (0, 0.11967902183429975),\n",
       " (0, 0.46802544616070035),\n",
       " (0, 0.33469245683985988),\n",
       " (0, 0.49404666792349811),\n",
       " (0, 0.13418037822541587),\n",
       " (0, 0.070898988014418615),\n",
       " (0, 0.33192182600682385),\n",
       " (0, 0.23696210474025725),\n",
       " (0, 0.12462345905521012),\n",
       " (0, 0.3592700285910449),\n",
       " (0, 0.10912289304290568),\n",
       " (1, 0.52168926298791507),\n",
       " (0, 0.41206727729613674),\n",
       " (0, 0.062668841624307969),\n",
       " (0, 0.28511271825663609),\n",
       " (0, 0.18344532244971645),\n",
       " (0, 0.14262461269908849),\n",
       " (0, 0.31333098739403825),\n",
       " (0, 0.31607745134777721),\n",
       " (0, 0.16865382373607996),\n",
       " (0, 0.29429885099584935),\n",
       " (0, 0.28202606147210163),\n",
       " (0, 0.16865382373607996),\n",
       " (0, 0.24150048124991005),\n",
       " (0, 0.20661742985671133),\n",
       " (0, 0.35161210506313983),\n",
       " (0, 0.068864402937080071),\n",
       " (0, 0.37573238701522432),\n",
       " (0, 0.16289438974901096),\n",
       " (0, 0.13675011719537314),\n",
       " (0, 0.38756435665884426),\n",
       " (0, 0.29134703336528212),\n",
       " (0, 0.13034426412822195),\n",
       " (0, 0.29657783174067087),\n",
       " (0, 0.049626797489230712),\n",
       " (0, 0.056996560288721715),\n",
       " (0, 0.14262461269908849),\n",
       " (0, 0.30703474473223569),\n",
       " (0, 0.20499272637255397),\n",
       " (0, 0.2336252822408566),\n",
       " (0, 0.011884237068761603),\n",
       " (0, 0.098818006294459207),\n",
       " (0, 0.32102983746483776),\n",
       " (0, 0.16120750806771331),\n",
       " (0, 0.33469245683985988),\n",
       " (0, 0.14676115305542164),\n",
       " (0, 0.35029896649367043),\n",
       " (0, 0.3286942782084013),\n",
       " (0, 0.2467656653037997),\n",
       " (0, 0.28534474640782981),\n",
       " (0, 0.4085369720899058),\n",
       " (0, 0.13034426412822195),\n",
       " (0, 0.1396023646826641),\n",
       " (1, 0.66118739973117679),\n",
       " (0, 0.12616252578825915),\n",
       " (0, 0.12102237915364845),\n",
       " (0, 0.17513839824418651),\n",
       " (0, 0.14262461269908849),\n",
       " (0, 0.30579020410997382),\n",
       " (0, 0.11795231493159282),\n",
       " (0, 0.36700033372733981),\n",
       " (0, 0.13652862359265805),\n",
       " (0, 0.32368002181782912),\n",
       " (0, 0.15318933560190823),\n",
       " (0, 0.28920128639600012),\n",
       " (1, 0.74571371889406068),\n",
       " (0, 0.35062909214900356),\n",
       " (0, 0.31424503436520695),\n",
       " (0, 0.33469245683985988),\n",
       " (0, 0.13435955569610739),\n",
       " (0, 0.3286942782084013),\n",
       " (0, 0.12258309894247557),\n",
       " (0, 0.24060528618060495),\n",
       " (0, 0.098847944011841743),\n",
       " (0, 0.071866160422843092),\n",
       " (0, 0.32149264991094317),\n",
       " (0, 0.29134703336528212),\n",
       " (0, 0.068864402937080071),\n",
       " (0, 0.173392615665168),\n",
       " (0, 0.36996377016703863),\n",
       " (0, 0.14243886363838204),\n",
       " (0, 0.16577249006412326),\n",
       " (0, 0.10912289304290568),\n",
       " (0, 0.056996560288721715),\n",
       " (0, 0.062721328498940215),\n",
       " (0, 0.33469245683985988),\n",
       " (0, 0.068864402937080071),\n",
       " (0, 0.064587006892089766),\n",
       " (0, 0.23956185726892515),\n",
       " (0, 0.22602782920611084),\n",
       " (0, 0.068864402937080071),\n",
       " (0, 0.15641390255082729),\n",
       " (0, 0.31640609013083609),\n",
       " (0, 0.18265396615890087),\n",
       " (0, 0.068864402937080071),\n",
       " (0, 0.33469245683985988),\n",
       " (0, 0.11990281856359747),\n",
       " (0, 0.40012044228718685),\n",
       " (0, 0.28832945631057277),\n",
       " (0, 0.046028235433434699),\n",
       " (0, 0.31333098739403825),\n",
       " (0, 0.29134703336528212),\n",
       " (0, 0.15533189740784065),\n",
       " (0, 0.26993244757170132),\n",
       " (0, 0.051535412800594427),\n",
       " (0, 0.17600480563393317),\n",
       " (0, 0.11072522682503332),\n",
       " (0, 0.068864402937080071),\n",
       " (0, 0.097392543877156831),\n",
       " (0, 0.30526853223968559),\n",
       " (0, 0.063199681146848749),\n",
       " (0, 0.3286942782084013),\n",
       " (0, 0.3592700285910449),\n",
       " (0, 0.12824865705191227),\n",
       " (0, 0.33733925946768517),\n",
       " (0, 0.35161210506313983),\n",
       " (0, 0.33469245683985988),\n",
       " (0, 0.33469245683985988),\n",
       " (0, 0.21749916816294812),\n",
       " (0, 0.17330281599895461),\n",
       " (0, 0.068864402937080071),\n",
       " (0, 0.10912289304290568),\n",
       " (0, 0.30915883042654246),\n",
       " (0, 0.060336020185437024)]"
      ]
     },
     "execution_count": 15,
     "metadata": {},
     "output_type": "execute_result"
    }
   ],
   "source": [
    "# any probability > .5 will have a 1 prediction\n",
    "zip(y_pred, p_proba[:,1])"
   ]
  },
  {
   "cell_type": "code",
   "execution_count": 16,
   "metadata": {
    "collapsed": false
   },
   "outputs": [
    {
     "data": {
      "text/plain": [
       "[(1, 0.38166226437909845),\n",
       " (1, 0.31692304005584049),\n",
       " (0, 0.23865893662739288),\n",
       " (0, 0.10912289304290568),\n",
       " (0, 0.10262049883424726),\n",
       " (0, 0.13034426412822195),\n",
       " (1, 0.056996560288721715),\n",
       " (0, 0.14262461269908849),\n",
       " (0, 0.16314434882523093),\n",
       " (0, 0.17823601047095869)]"
      ]
     },
     "execution_count": 16,
     "metadata": {},
     "output_type": "execute_result"
    }
   ],
   "source": [
    "zip(y_test, p_proba[:,1])[:10]"
   ]
  },
  {
   "cell_type": "markdown",
   "metadata": {},
   "source": [
    "By default the decision threshold is 0.5: if we vary the decision threshold from 0 to 1 we could generate a family of binary classifier models that address all the possible trade offs between false positive and false negative prediction errors.\n",
    "\n",
    "We can summarize the performance of a binary classifier for all the possible thresholds by plotting the ROC curve and quantifying the Area under the ROC curve:"
   ]
  },
  {
   "cell_type": "code",
   "execution_count": 17,
   "metadata": {
    "collapsed": true
   },
   "outputs": [],
   "source": [
    "def plot_roc_curve(y_test, p_proba):\n",
    "    # calculates: false positive rate, true positive rate, \n",
    "    fpr, tpr, thresholds = roc_curve(y_test, p_proba[:, 1])\n",
    "    \n",
    "    roc_auc = auc(fpr, tpr)\n",
    "    # Plot ROC curve\n",
    "    plt.plot(fpr, tpr, label= 'AUC = %0.3f' % roc_auc)\n",
    "    plt.plot([0, 1], [0, 1], 'k--')  # random predictions curve\n",
    "    plt.xlim([0.0, 1.0])\n",
    "    plt.ylim([0.0, 1.0])\n",
    "    plt.xlabel('False Positive Rate or (1 - Specifity)')\n",
    "    plt.ylabel('True Positive Rate or (Sensitivity)')\n",
    "    plt.title('ROC')\n",
    "    plt.legend(loc=\"lower right\")"
   ]
  },
  {
   "cell_type": "code",
   "execution_count": 18,
   "metadata": {
    "collapsed": false
   },
   "outputs": [
    {
     "data": {
      "image/png": "[encoded data removed]",
      "text/plain": [
       "<matplotlib.figure.Figure at 0x1042b7550>"
      ]
     },
     "metadata": {},
     "output_type": "display_data"
    }
   ],
   "source": [
    "plot_roc_curve(y_test, p_proba)"
   ]
  },
  {
   "cell_type": "markdown",
   "metadata": {},
   "source": [
    "## Let's downsample the majority class to train our classifer and see if we can get better performance"
   ]
  },
  {
   "cell_type": "markdown",
   "metadata": {},
   "source": [
    "To do this, we will train our logistic regression classifier with downsampled data and use this trained classifier on the non-downsampled data to see if it can do a better job"
   ]
  },
  {
   "cell_type": "code",
   "execution_count": 30,
   "metadata": {
    "collapsed": false
   },
   "outputs": [],
   "source": [
    "# get equal sample sizes of both classes\n",
    "class_sample = df.Donation_March_2007.value_counts()[1]\n",
    "\n",
    "# get a subset of the data frame with no donations\n",
    "no_donation_idx = df[df.Donation_March_2007 == 0].index\n",
    "\n",
    "# take a equal random sample of no donation rows\n",
    "sample_rows = random.sample(no_donation_idx, class_sample)\n",
    "\n",
    "# concat subset data frames back together\n",
    "df_ds = pd.concat([df.ix[sample_rows], df[df.Donation_March_2007 == 1]])"
   ]
  },
  {
   "cell_type": "code",
   "execution_count": 31,
   "metadata": {
    "collapsed": false
   },
   "outputs": [
    {
     "data": {
      "text/plain": [
       "1    138\n",
       "0    138\n",
       "dtype: int64"
      ]
     },
     "execution_count": 31,
     "metadata": {},
     "output_type": "execute_result"
    }
   ],
   "source": [
    "df_ds.Donation_March_2007.value_counts()"
   ]
  },
  {
   "cell_type": "code",
   "execution_count": 38,
   "metadata": {
    "collapsed": false
   },
   "outputs": [
    {
     "name": "stdout",
     "output_type": "stream",
     "text": [
      "Train Testing Results \n",
      "\n",
      "\n",
      "             precision    recall  f1-score   support\n",
      "\n",
      "no donation       0.64      0.61      0.62        38\n",
      "    donated       0.68      0.71      0.70        45\n",
      "\n",
      "avg / total       0.66      0.66      0.66        83\n",
      "\n"
     ]
    }
   ],
   "source": [
    "# separate features and target\n",
    "X_ds = df_ds.drop('Donation_March_2007', axis = 1)\n",
    "y_ds = df_ds.Donation_March_2007\n",
    "\n",
    "# train test split\n",
    "X_train_ds, X_test_ds, y_train_ds, y_test_ds = train_test_split(X_ds, y_ds, test_size=0.3, random_state=0)\n",
    "\n",
    "# train logistic regression, evaluate on test\n",
    "lr_ds = LogisticRegression(C=1)\n",
    "lr_ds.fit(X_train_ds, y_train_ds)\n",
    "    \n",
    "#clf = train_test(data_out)\n",
    "y_pred_ds = lr_ds.predict(X_test_ds)\n",
    "    \n",
    "#evaluate accuracy\n",
    "print \"Train Testing Results \\n\\n\"\n",
    "\n",
    "print classification_report(y_test_ds, y_pred_ds, target_names=['no donation', 'donated'])"
   ]
  },
  {
   "cell_type": "code",
   "execution_count": 39,
   "metadata": {
    "collapsed": false
   },
   "outputs": [
    {
     "data": {
      "image/png": "[encoded data removed]",
      "text/plain": [
       "<matplotlib.figure.Figure at 0x10964f190>"
      ]
     },
     "metadata": {},
     "output_type": "display_data"
    }
   ],
   "source": [
    "cm_ds = confusion_matrix(y_test_ds, y_pred_ds)\n",
    "\n",
    "plot_confusion_matrix(cm_ds, title='Confusion matrix')"
   ]
  },
  {
   "cell_type": "code",
   "execution_count": 40,
   "metadata": {
    "collapsed": false
   },
   "outputs": [
    {
     "data": {
      "text/plain": [
       "array([[23, 15],\n",
       "       [13, 32]])"
      ]
     },
     "execution_count": 40,
     "metadata": {},
     "output_type": "execute_result"
    }
   ],
   "source": [
    "cm_ds"
   ]
  },
  {
   "cell_type": "markdown",
   "metadata": {},
   "source": [
    "####Now that we have this classifier trained on downsampled data, let's see if it performs better with the full dataset. Note that we are testing the classifier \"lr_ds\" with 'X_test' not 'X_test_ds'"
   ]
  },
  {
   "cell_type": "code",
   "execution_count": 41,
   "metadata": {
    "collapsed": false
   },
   "outputs": [
    {
     "name": "stdout",
     "output_type": "stream",
     "text": [
      "Train Testing Results With Downsampling the No Donation class \n",
      "\n",
      "\n",
      "             precision    recall  f1-score   support\n",
      "\n",
      "no donation       0.91      0.68      0.78       134\n",
      "    donated       0.41      0.77      0.54        39\n",
      "\n",
      "avg / total       0.80      0.70      0.72       173\n",
      "\n"
     ]
    }
   ],
   "source": [
    "y_pred = lr_ds.predict(X_test)\n",
    "    \n",
    "#evaluate accuracy\n",
    "print(\"Train Testing Results With Downsampling the No Donation class \\n\\n\")\n",
    "\n",
    "print(classification_report(y_test, y_pred,\n",
    "                         target_names=['no donation', 'donated']))\n",
    "    "
   ]
  },
  {
   "cell_type": "code",
   "execution_count": 44,
   "metadata": {
    "collapsed": true
   },
   "outputs": [],
   "source": [
    "cm_ds = confusion_matrix(y_pred, y_test)"
   ]
  },
  {
   "cell_type": "code",
   "execution_count": 45,
   "metadata": {
    "collapsed": false
   },
   "outputs": [
    {
     "data": {
      "text/plain": [
       "array([[91,  9],\n",
       "       [43, 30]])"
      ]
     },
     "execution_count": 45,
     "metadata": {},
     "output_type": "execute_result"
    }
   ],
   "source": [
    "# new confusion matrix, fit from downsampled data and predicted using full data set\n",
    "cm_ds"
   ]
  },
  {
   "cell_type": "code",
   "execution_count": 46,
   "metadata": {
    "collapsed": false
   },
   "outputs": [
    {
     "data": {
      "text/plain": [
       "array([[134,  33],\n",
       "       [  0,   6]])"
      ]
     },
     "execution_count": 46,
     "metadata": {},
     "output_type": "execute_result"
    }
   ],
   "source": [
    "# original confusion matrix, fit and predicted using full data set\n",
    "cm"
   ]
  },
  {
   "cell_type": "code",
   "execution_count": 47,
   "metadata": {
    "collapsed": false
   },
   "outputs": [
    {
     "data": {
      "image/png": "[encoded data removed]",
      "text/plain": [
       "<matplotlib.figure.Figure at 0x10a16bdd0>"
      ]
     },
     "metadata": {},
     "output_type": "display_data"
    }
   ],
   "source": [
    "# getting predicted probabilities from downsampled classifier\n",
    "p_proba_ds = lr_ds.predict_proba(X_test)\n",
    "\n",
    "# plotting ROC curve\n",
    "plot_roc_curve(y_test, p_proba_ds)"
   ]
  },
  {
   "cell_type": "markdown",
   "metadata": {},
   "source": [
    "## Another Strategy ... Adjusting Class Weights "
   ]
  },
  {
   "cell_type": "markdown",
   "metadata": {},
   "source": [
    "### Setting class_weights equal to 'auto', selects weights inversely proportional to class frequencies in the training set.\n",
    "\n",
    "http://scikit-learn.org/stable/modules/generated/sklearn.linear_model.LogisticRegression.html"
   ]
  },
  {
   "cell_type": "code",
   "execution_count": 19,
   "metadata": {
    "collapsed": false
   },
   "outputs": [
    {
     "name": "stdout",
     "output_type": "stream",
     "text": [
      "Train Testing Results \n",
      "\n",
      "\n",
      "             precision    recall  f1-score   support\n",
      "\n",
      "no donation       0.91      0.68      0.78       134\n",
      "    donated       0.41      0.77      0.54        39\n",
      "\n",
      "avg / total       0.80      0.70      0.72       173\n",
      "\n"
     ]
    }
   ],
   "source": [
    "# separate original features and target\n",
    "X = df.drop('Donation_March_2007', axis = 1)\n",
    "y = df.Donation_March_2007\n",
    "\n",
    "X_train, X_test, y_train, y_test = train_test_split(X, y, test_size=0.3, random_state=0)\n",
    "\n",
    "lr = LogisticRegression(C=1, class_weight= 'auto') #also in SVM - this looks at how many labels are in each class to re\n",
    "lr.fit(X_train, y_train)\n",
    "    \n",
    "y_pred = lr.predict(X_test)\n",
    "    \n",
    "print \"Train Testing Results \\n\\n\"\n",
    "\n",
    "print classification_report(y_test, y_pred, target_names=['no donation', 'donated'])"
   ]
  },
  {
   "cell_type": "code",
   "execution_count": 21,
   "metadata": {
    "collapsed": false
   },
   "outputs": [
    {
     "data": {
      "text/plain": [
       "array([[91,  9],\n",
       "       [43, 30]])"
      ]
     },
     "execution_count": 21,
     "metadata": {},
     "output_type": "execute_result"
    }
   ],
   "source": [
    "cm_auto_weight = confusion_matrix(y_pred, y_test)\n",
    "cm_auto_weight"
   ]
  },
  {
   "cell_type": "markdown",
   "metadata": {},
   "source": [
    "## Exercises:"
   ]
  },
  {
   "cell_type": "markdown",
   "metadata": {},
   "source": [
    "### Calculate the predicted probabilities and plot the ROC curve"
   ]
  },
  {
   "cell_type": "code",
   "execution_count": 35,
   "metadata": {
    "collapsed": true
   },
   "outputs": [],
   "source": [
    "# use the last classifier with class_weight = 'auto'"
   ]
  },
  {
   "cell_type": "code",
   "execution_count": 22,
   "metadata": {
    "collapsed": false
   },
   "outputs": [
    {
     "data": {
      "image/png": "[encoded data removed]",
      "text/plain": [
       "<matplotlib.figure.Figure at 0x10a0bff10>"
      ]
     },
     "metadata": {},
     "output_type": "display_data"
    }
   ],
   "source": [
    "# get the predicted probabilities from the last classifier with class_weight = 'auto'\n",
    "# getting predicted probabilities from downsampled classifier\n",
    "p_proba = lr.predict_proba(X_test)\n",
    "\n",
    "# plotting ROC curve\n",
    "plot_roc_curve(y_test, p_proba)\n",
    "\n",
    "# plot ROC curve\n",
    "\n"
   ]
  },
  {
   "cell_type": "markdown",
   "metadata": {},
   "source": [
    "### Using the classifier algorithms below plot the ROC and maximize AUC value"
   ]
  },
  {
   "cell_type": "code",
   "execution_count": 37,
   "metadata": {
    "collapsed": true
   },
   "outputs": [],
   "source": [
    "from sklearn.tree import DecisionTreeClassifier\n",
    "from sklearn.ensemble import RandomForestClassifier, AdaBoostClassifier\n",
    "from sklearn.svm import SVC\n",
    "from sklearn.naive_bayes import GaussianNB\n",
    "from sklearn.neighbors import KNeighborsClassifier"
   ]
  },
  {
   "cell_type": "code",
   "execution_count": 38,
   "metadata": {
    "collapsed": false
   },
   "outputs": [
    {
     "data": {
      "image/png": "[encoded data removed]",
      "text/plain": [
       "<matplotlib.figure.Figure at 0x10aa35310>"
      ]
     },
     "metadata": {},
     "output_type": "display_data"
    }
   ],
   "source": [
    "# Example code\n",
    "\n",
    "rf = KNeighborsClassifier()\n",
    "rf.fit(X_train, y_train)\n",
    "p_proba = rf.predict_proba(X_test)\n",
    "plot_roc_curve(y_test, p_proba)"
   ]
  },
  {
   "cell_type": "code",
   "execution_count": 23,
   "metadata": {
    "collapsed": false
   },
   "outputs": [
    {
     "data": {
      "text/plain": [
       "0.78922694221201684"
      ]
     },
     "execution_count": 23,
     "metadata": {},
     "output_type": "execute_result"
    }
   ],
   "source": [
    "# Example code\n",
    "\n",
    "roc_auc_score(y_test, p_proba[:,1])"
   ]
  },
  {
   "cell_type": "code",
   "execution_count": null,
   "metadata": {
    "collapsed": true
   },
   "outputs": [],
   "source": []
  },
  {
   "cell_type": "code",
   "execution_count": null,
   "metadata": {
    "collapsed": true
   },
   "outputs": [],
   "source": []
  },
  {
   "cell_type": "code",
   "execution_count": null,
   "metadata": {
    "collapsed": true
   },
   "outputs": [],
   "source": []
  },
  {
   "cell_type": "code",
   "execution_count": null,
   "metadata": {
    "collapsed": true
   },
   "outputs": [],
   "source": []
  },
  {
   "cell_type": "code",
   "execution_count": null,
   "metadata": {
    "collapsed": true
   },
   "outputs": [],
   "source": []
  },
  {
   "cell_type": "markdown",
   "metadata": {},
   "source": [
    "###By the way...\n",
    "\n",
    "This data set is from a data science competition. If you get a chance submit your best model!\n",
    "\n",
    "http://www.drivendata.org/competitions/2/"
   ]
  }
 ],
 "metadata": {
  "kernelspec": {
   "display_name": "Python 2",
   "language": "python",
   "name": "python2"
  },
  "language_info": {
   "codemirror_mode": {
    "name": "ipython",
    "version": 2
   },
   "file_extension": ".py",
   "mimetype": "text/x-python",
   "name": "python",
   "nbconvert_exporter": "python",
   "pygments_lexer": "ipython2",
   "version": "2.7.9"
  }
 },
 "nbformat": 4,
 "nbformat_minor": 0
}
