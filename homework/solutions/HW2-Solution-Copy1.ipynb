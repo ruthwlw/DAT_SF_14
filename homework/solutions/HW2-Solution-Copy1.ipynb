{
 "cells": [
  {
   "cell_type": "markdown",
   "metadata": {},
   "source": [
    "#DAT-13 HW2 Solutions\n",
    "Thanks to John Eckstein"
   ]
  },
  {
   "cell_type": "code",
   "execution_count": 22,
   "metadata": {
    "collapsed": false
   },
   "outputs": [],
   "source": [
    "%matplotlib inline\n",
    "import pandas as pd\n",
    "import numpy as np\n",
    "import matplotlib.pyplot as plt\n",
    "from sklearn.datasets import load_iris\n",
    "from sklearn import neighbors, datasets\n",
    "from sklearn.cross_validation import train_test_split, cross_val_score"
   ]
  },
  {
   "cell_type": "markdown",
   "metadata": {},
   "source": [
    "### 1. Implement KNN classification, using the sklearn package."
   ]
  },
  {
   "cell_type": "code",
   "execution_count": 23,
   "metadata": {
    "collapsed": false
   },
   "outputs": [
    {
     "data": {
      "text/html": [
       "<div style=\"max-height:1000px;max-width:1500px;overflow:auto;\">\n",
       "<table border=\"1\" class=\"dataframe\">\n",
       "  <thead>\n",
       "    <tr style=\"text-align: right;\">\n",
       "      <th></th>\n",
       "      <th>sepal length (cm)</th>\n",
       "      <th>sepal width (cm)</th>\n",
       "      <th>petal length (cm)</th>\n",
       "      <th>petal width (cm)</th>\n",
       "    </tr>\n",
       "  </thead>\n",
       "  <tbody>\n",
       "    <tr>\n",
       "      <th>0</th>\n",
       "      <td> 5.1</td>\n",
       "      <td> 3.5</td>\n",
       "      <td> 1.4</td>\n",
       "      <td> 0.2</td>\n",
       "    </tr>\n",
       "    <tr>\n",
       "      <th>1</th>\n",
       "      <td> 4.9</td>\n",
       "      <td> 3.0</td>\n",
       "      <td> 1.4</td>\n",
       "      <td> 0.2</td>\n",
       "    </tr>\n",
       "    <tr>\n",
       "      <th>2</th>\n",
       "      <td> 4.7</td>\n",
       "      <td> 3.2</td>\n",
       "      <td> 1.3</td>\n",
       "      <td> 0.2</td>\n",
       "    </tr>\n",
       "    <tr>\n",
       "      <th>3</th>\n",
       "      <td> 4.6</td>\n",
       "      <td> 3.1</td>\n",
       "      <td> 1.5</td>\n",
       "      <td> 0.2</td>\n",
       "    </tr>\n",
       "    <tr>\n",
       "      <th>4</th>\n",
       "      <td> 5.0</td>\n",
       "      <td> 3.6</td>\n",
       "      <td> 1.4</td>\n",
       "      <td> 0.2</td>\n",
       "    </tr>\n",
       "  </tbody>\n",
       "</table>\n",
       "</div>"
      ],
      "text/plain": [
       "   sepal length (cm)  sepal width (cm)  petal length (cm)  petal width (cm)\n",
       "0                5.1               3.5                1.4               0.2\n",
       "1                4.9               3.0                1.4               0.2\n",
       "2                4.7               3.2                1.3               0.2\n",
       "3                4.6               3.1                1.5               0.2\n",
       "4                5.0               3.6                1.4               0.2"
      ]
     },
     "execution_count": 23,
     "metadata": {},
     "output_type": "execute_result"
    }
   ],
   "source": [
    "iris = datasets.load_iris()\n",
    "iris_df = pd.DataFrame(iris.data, columns=iris.feature_names)\n",
    "iris_df.head()"
   ]
  },
  {
   "cell_type": "code",
   "execution_count": 24,
   "metadata": {
    "collapsed": false
   },
   "outputs": [
    {
     "name": "stdout",
     "output_type": "stream",
     "text": [
      "[0.97777777777777775, 0.97777777777777775, 0.97777777777777775, 0.97777777777777775, 0.97777777777777775, 1.0, 0.97777777777777775, 1.0, 0.97777777777777775, 0.97777777777777775, 1.0, 0.97777777777777775, 0.97777777777777775, 0.97777777777777775, 0.97777777777777775]\n"
     ]
    }
   ],
   "source": [
    "X_train, X_test, y_train, y_test = train_test_split(iris.data, iris.target, test_size=0.3, random_state=12)\n",
    "n_neighbors = range(1,16)\n",
    "train_answers = []\n",
    "for n in n_neighbors:\n",
    "    clf = neighbors.KNeighborsClassifier(n)\n",
    "    clf.fit(X_train, y_train)\n",
    "    train_answers.append(clf.score(X_test, y_test))\n",
    "print train_answers"
   ]
  },
  {
   "cell_type": "markdown",
   "metadata": {},
   "source": [
    "### 2. Use the sklearn package to implement cross-validation for your classifier. Use 5 folds for your cross-validation."
   ]
  },
  {
   "cell_type": "code",
   "execution_count": 25,
   "metadata": {
    "collapsed": false
   },
   "outputs": [
    {
     "name": "stdout",
     "output_type": "stream",
     "text": [
      "0.933333333333\n"
     ]
    }
   ],
   "source": [
    "from sklearn.cross_validation import cross_val_score\n",
    "#Note we are using 3 neighbors in this example\n",
    "clf = neighbors.KNeighborsClassifier(3)\n",
    "scores = cross_val_score(clf, X_test, y_test, cv=5)\n",
    "print scores.mean()"
   ]
  },
  {
   "cell_type": "markdown",
   "metadata": {},
   "source": [
    "### 3. Use your KNN classifier and cross-validation code from (1) and (2) above to determine the optimal value of K (number of nearest neighbors to consult) for this Iris dataset. Hint: This hyperparameter will be a number between 1 and 150."
   ]
  },
  {
   "cell_type": "code",
   "execution_count": 26,
   "metadata": {
    "collapsed": false
   },
   "outputs": [
    {
     "name": "stdout",
     "output_type": "stream",
     "text": [
      "[1, 2, 3, 4, 5, 6, 7, 8, 9, 10, 11, 12, 13, 14, 15, 16, 17, 18, 19, 20, 21, 22, 23, 24, 25, 26, 27, 28, 29, 30, 31, 32, 33, 34, 35, 36, 37, 38, 39, 40, 41, 42, 43, 44, 45, 46, 47, 48, 49, 50, 51, 52, 53, 54, 55, 56, 57, 58, 59, 60, 61, 62, 63, 64, 65, 66, 67, 68, 69, 70, 71, 72, 73, 74, 75, 76, 77, 78, 79, 80, 81, 82, 83, 84, 85, 86, 87, 88, 89, 90, 91, 92, 93, 94, 95, 96, 97, 98, 99, 100, 101, 102, 103, 104, 105, 106, 107, 108, 109, 110, 111, 112, 113, 114, 115, 116, 117, 118, 119]\n"
     ]
    }
   ],
   "source": [
    "a = range(1,120)\n",
    "print a"
   ]
  },
  {
   "cell_type": "code",
   "execution_count": 27,
   "metadata": {
    "collapsed": false
   },
   "outputs": [
    {
     "name": "stdout",
     "output_type": "stream",
     "text": [
      "Best k value: 6\n"
     ]
    }
   ],
   "source": [
    "n_neighbors = range(1,120) \n",
    "all_scores = []\n",
    "for n in n_neighbors:   \n",
    "    clf = neighbors.KNeighborsClassifier(n)    \n",
    "    scores = cross_val_score(clf, iris.data, iris.target, cv=5)    \n",
    "    all_scores.append(scores.mean())\n",
    "\n",
    "best_k = n_neighbors[np.argmax(all_scores)]\n",
    "print \"Best k value: %s\" % best_k\n"
   ]
  },
  {
   "cell_type": "markdown",
   "metadata": {},
   "source": [
    "### 4. Using matplotlib, plot classifier accuracy versus the hyperparameter K for a range of K that you consider interesting. Explain in words what you are seeing."
   ]
  },
  {
   "cell_type": "code",
   "execution_count": 28,
   "metadata": {
    "collapsed": false
   },
   "outputs": [
    {
     "data": {
      "text/plain": [
       "[<matplotlib.lines.Line2D at 0x109212510>]"
      ]
     },
     "execution_count": 28,
     "metadata": {},
     "output_type": "execute_result"
    },
    {
     "data": {
      "image/png": "[encoded data removed]",
      "text/plain": [
       "<matplotlib.figure.Figure at 0x10912dc10>"
      ]
     },
     "metadata": {},
     "output_type": "display_data"
    }
   ],
   "source": [
    "plt.plot(n_neighbors, all_scores, linewidth=3.0)"
   ]
  },
  {
   "cell_type": "markdown",
   "metadata": {},
   "source": [
    "This graph tells me that with more and more neighbors the result is overfitting, new points aren't classified well, and the accuracy goes down. Too few nieghbors can result in underfitting although the accuracy hit isn't as dramatic as overfitting."
   ]
  },
  {
   "cell_type": "markdown",
   "metadata": {},
   "source": [
    "### 5. Now, write your own implementation of cross-validation in Python without using the cross-validation methods from sklearn. Cross validation is a very important concept. Implementing it yourself in Python is the best way to learn and understand it. Compare the results of your cross-validation code with your results using the cross-validation in sklearn."
   ]
  },
  {
   "cell_type": "code",
   "execution_count": 29,
   "metadata": {
    "collapsed": false
   },
   "outputs": [],
   "source": [
    "def score_with_kfold(clf,X,y,num_folds):\n",
    "    #shuffle to get a better score...\n",
    "    np.random.seed(12)\n",
    "    shuffled_indexes = np.random.permutation(xrange(0,len(X)))\n",
    "    scores=[]\n",
    "    for test_index in range(num_folds):\n",
    "        train_data, train_targets, test_data, test_targets = [],[],[],[]\n",
    "        for i in range(len(X)):\n",
    "            bucket_num = i % num_folds #get the bucket number\n",
    "            X_val = X[shuffled_indexes[i]]\n",
    "            y_val = y[shuffled_indexes[i]]\n",
    "            \n",
    "            if bucket_num == test_index:\n",
    "                test_data.append(X_val) \n",
    "                test_targets.append(y_val) \n",
    "            else:\n",
    "                train_data.append(X_val)\n",
    "                train_targets.append(y_val)\n",
    "            \n",
    "#         print \"test index %s, test_data count %s, train_data count %s\" % (test_index, len(test_data), len(train_data)) \n",
    "        #fit and save the score\n",
    "        clf.fit(train_data, train_targets)\n",
    "        scores.append(clf.score(test_data,test_targets))\n",
    "\n",
    "    return np.mean(scores)"
   ]
  },
  {
   "cell_type": "code",
   "execution_count": 30,
   "metadata": {
    "collapsed": false
   },
   "outputs": [
    {
     "name": "stdout",
     "output_type": "stream",
     "text": [
      "My score: 0.96\n",
      "SK score: 0.966666666667\n"
     ]
    }
   ],
   "source": [
    "clf = neighbors.KNeighborsClassifier(3)    \n",
    "my_score = score_with_kfold(clf,iris.data,iris.target,5)\n",
    "sk_score = cross_val_score(clf, iris.data, iris.target, cv=5).mean()\n",
    "print \"My score: %s\" % my_score\n",
    "print \"SK score: %s\" % sk_score"
   ]
  },
  {
   "cell_type": "markdown",
   "metadata": {},
   "source": [
    "### 6. EXTRA CREDIT 1: Using the value of K obtained in (3) above, vary the number of folds used for cross-validation across an interesting range, e.g. [ 2, 3, 5, 6, 10, 15]. "
   ]
  },
  {
   "cell_type": "code",
   "execution_count": 31,
   "metadata": {
    "collapsed": false
   },
   "outputs": [
    {
     "data": {
      "text/plain": [
       "[<matplotlib.lines.Line2D at 0x109459ed0>]"
      ]
     },
     "execution_count": 31,
     "metadata": {},
     "output_type": "execute_result"
    },
    {
     "data": {
      "image/png": "[encoded data removed]",
      "text/plain": [
       "<matplotlib.figure.Figure at 0x10933c4d0>"
      ]
     },
     "metadata": {},
     "output_type": "display_data"
    }
   ],
   "source": [
    "k=best_k\n",
    "fold_range = xrange(2,50)\n",
    "fold_scores = []\n",
    "for num_folds in fold_range:\n",
    "    clf = neighbors.KNeighborsClassifier(k)        \n",
    "    scores = cross_val_score(clf, iris.data, iris.target, cv=num_folds)\n",
    "    fold_scores.append(scores.mean())\n",
    "    \n",
    "plt.plot(fold_range, fold_scores , linewidth=3.0)   "
   ]
  },
  {
   "cell_type": "markdown",
   "metadata": {},
   "source": [
    "#### How does classifier accuracy vary with the number of folds used?"
   ]
  },
  {
   "cell_type": "markdown",
   "metadata": {},
   "source": [
    "It reaches min at 2 and max at 3 and everything after is very noisy with no real pattern.  "
   ]
  },
  {
   "cell_type": "markdown",
   "metadata": {},
   "source": [
    "#### Do you think there exists an optimal number of folds to use for this particular problem? Why or why not?"
   ]
  },
  {
   "cell_type": "markdown",
   "metadata": {},
   "source": [
    "The job of cross validation is to verify that your model is not completely off target.  It seems that any fold number beyond 3 will yield pretty much the same result, thus not providing much benefit to finding an optimal fold number."
   ]
  },
  {
   "cell_type": "markdown",
   "metadata": {},
   "source": [
    "### 7. EXTRA CREDIT 2: Write your own implementation of KNN classification in Python, without using the methods from sklearn. Compare your results with the results you obtained using sklearn."
   ]
  },
  {
   "cell_type": "code",
   "execution_count": 50,
   "metadata": {
    "collapsed": false
   },
   "outputs": [],
   "source": [
    "import math\n",
    "import operator\n",
    "from scipy.stats import mode\n",
    "\n",
    "class MyKnn:\n",
    "    \n",
    "    def __init__(self,k):        \n",
    "        self._k = k\n",
    "    \n",
    "    def fit(self,X,y):\n",
    "        self._X = X\n",
    "        self._y = y\n",
    "    \n",
    "    def euclidean_distance(self,n,p):\n",
    "        #sum of the squares of all dimensions\n",
    "        squares_sum=0\n",
    "        if len(n) == len(p):            \n",
    "            for i in range(len(n)):\n",
    "                squares_sum += pow((n[i] - p[i]),2)\n",
    "        else:\n",
    "            raise TypeError(\"dimensions must be the same!\")\n",
    "        return math.sqrt(squares_sum)\n",
    "        \n",
    "    def predict(self,X_new):\n",
    "        #get the euclidean distance for each point in X and X_new\n",
    "        distances = {}\n",
    "        for i in range(len(self._X)):\n",
    "            distances[i] = self.euclidean_distance(self._X[i],X_new)\n",
    "              \n",
    "        #sort the distances ascending\n",
    "        sorted_dist = sorted(distances.items(), key=operator.itemgetter(1))\n",
    "        \n",
    "        #now take the top k indexes and get their y values\n",
    "        classes=[]\n",
    "        for tpl in sorted_dist[0:self._k]:\n",
    "            classes.append(self._y[tpl[0]])\n",
    "        \n",
    "        #take the mode of all the top k classes\n",
    "        predict_class = mode(classes)[0]\n",
    "        return int(predict_class)\n",
    "    \n",
    "    def score(self,X,y):\n",
    "        predict_vals = []   \n",
    "        for i in range(len(X)):            \n",
    "            predict_vals.append(int(self.predict(X[i]) == y[i]))\n",
    "            \n",
    "        return np.mean(predict_vals) "
   ]
  },
  {
   "cell_type": "code",
   "execution_count": 51,
   "metadata": {
    "collapsed": false
   },
   "outputs": [
    {
     "name": "stdout",
     "output_type": "stream",
     "text": [
      "My score: 0.946666666667\n",
      "SK score: 0.946666666667\n"
     ]
    }
   ],
   "source": [
    "k=6\n",
    "myknn = MyKnn(k)\n",
    "clf = neighbors.KNeighborsClassifier(k)         \n",
    "my_score = score_with_kfold(myknn,iris.data,iris.target,3)\n",
    "sk_score = score_with_kfold(clf,iris.data,iris.target,3)\n",
    "\n",
    "print \"My score: %s\" % my_score\n",
    "print \"SK score: %s\" % sk_score\n"
   ]
  },
  {
   "cell_type": "code",
   "execution_count": null,
   "metadata": {
    "collapsed": true
   },
   "outputs": [],
   "source": []
  }
 ],
 "metadata": {
  "kernelspec": {
   "display_name": "Python 2",
   "language": "python",
   "name": "python2"
  },
  "language_info": {
   "codemirror_mode": {
    "name": "ipython",
    "version": 2
   },
   "file_extension": ".py",
   "mimetype": "text/x-python",
   "name": "python",
   "nbconvert_exporter": "python",
   "pygments_lexer": "ipython2",
   "version": "2.7.9"
  }
 },
 "nbformat": 4,
 "nbformat_minor": 0
}
